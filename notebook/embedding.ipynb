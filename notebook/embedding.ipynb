{
 "cells": [
  {
   "cell_type": "markdown",
   "metadata": {},
   "source": [
    "# Sentiment analysis with RNN"
   ]
  },
  {
   "cell_type": "code",
   "execution_count": 1,
   "metadata": {
    "scrolled": true
   },
   "outputs": [
    {
     "name": "stderr",
     "output_type": "stream",
     "text": [
      "Using TensorFlow backend.\n"
     ]
    }
   ],
   "source": [
    "import numpy as np\n",
    "import scipy.sparse\n",
    "import json\n",
    "import zipfile as zip\n",
    "\n",
    "import spacy\n",
    "from keras.preprocessing import text, sequence\n",
    "from gensim import corpora\n",
    "from gensim.models import tfidfmodel\n",
    "from gensim.matutils import corpus2csc\n",
    "from gensim.corpora.dictionary import Dictionary\n",
    "\n",
    "import matplotlib.pyplot as plt\n",
    "import seaborn as sns\n",
    "\n",
    "import sys\n",
    "from collections import Counter, OrderedDict\n",
    "from os.path import expanduser\n",
    "\n",
    "import keras.backend as K\n",
    "from keras.utils import to_categorical\n",
    "from keras import models, optimizers, regularizers\n",
    "from keras.layers import Dropout, Dense, Activation, Flatten, LSTM, \\\n",
    "Conv1D, MaxPooling1D, GRU, Embedding, CuDNNLSTM, Bidirectional\n",
    "\n",
    "from sklearn.model_selection import train_test_split"
   ]
  },
  {
   "cell_type": "markdown",
   "metadata": {},
   "source": [
    "# Importing"
   ]
  },
  {
   "cell_type": "markdown",
   "metadata": {},
   "source": [
    "Data is preprocessed as a list of lists, reviews are parsed and stop words and punctuation are removed."
   ]
  },
  {
   "cell_type": "code",
   "execution_count": 2,
   "metadata": {},
   "outputs": [],
   "source": [
    "re_run = False\n",
    "\n",
    "if re_run:\n",
    "    # processed from gensim_walkthrough notebook\n",
    "    with open('../../data/processed/processed.txt', 'r') as f:\n",
    "        restaurants = tuple(json.loads(line) for line in f)\n",
    "\n",
    "    # different text cleaning for reviews\n",
    "    with open('../../data/processed/reviews_cleaned.txt', 'r') as f:\n",
    "        reviews = tuple(json.loads(line) for line in f)"
   ]
  },
  {
   "cell_type": "markdown",
   "metadata": {},
   "source": [
    "## Doing the same process with gensim"
   ]
  },
  {
   "cell_type": "markdown",
   "metadata": {},
   "source": [
    "Skipping a step by not creating two dictionaries for train and test, they get recombined anyway for an update of new data though."
   ]
  },
  {
   "cell_type": "code",
   "execution_count": 3,
   "metadata": {},
   "outputs": [
    {
     "name": "stdout",
     "output_type": "stream",
     "text": [
      "13000\n",
      "CPU times: user 5.1 ms, sys: 97 µs, total: 5.2 ms\n",
      "Wall time: 4.9 ms\n"
     ]
    }
   ],
   "source": [
    "%%time\n",
    "\n",
    "if re_run:\n",
    "    \n",
    "    # create dictionary\n",
    "    dict_yelp = corpora.Dictionary(reviews)\n",
    "    # tune corpus to get a smaller dictionary and therefore a smaller doc_term matrix, \n",
    "    # embeddings will still work but bow will not fit into 8gb gpu otherwise\n",
    "    dict_yelp.filter_extremes(no_below=10, keep_n=13000)\n",
    "    dict_yelp.save('../../data/processed/dictionary')\n",
    "\n",
    "else:\n",
    "    \n",
    "    dict_yelp = corpora.Dictionary.load('../../data/processed/dictionary')\n",
    "\n",
    "print(len(dict_yelp))"
   ]
  },
  {
   "cell_type": "code",
   "execution_count": 4,
   "metadata": {},
   "outputs": [],
   "source": [
    "if re_run:\n",
    "    # most common words\n",
    "    top_ids = sorted(dict_yelp.dfs.items(), key=lambda x: x[1], reverse=True)[0:30]\n",
    "    [(dict_yelp[item[0]], item[1]) for item in top_ids]"
   ]
  },
  {
   "cell_type": "code",
   "execution_count": 5,
   "metadata": {},
   "outputs": [],
   "source": [
    "def text_sequencer(dictionary, text, max_len=200):\n",
    "    \n",
    "    processed = []\n",
    "    # in case the word is not in the dictionary because it was filtered out use this number to represent an out of set id \n",
    "    dict_final = len(dictionary.keys()) + 1\n",
    "    \n",
    "    for i, word in enumerate(text):\n",
    "        if i > max_len - 1:\n",
    "            break\n",
    "        if word in dictionary.token2id.keys():\n",
    "    # remember the ids have an offset of 1 for this because 0 represents a padded value        \n",
    "            processed.append(dictionary.token2id[word] + 1) \n",
    "        else:\n",
    "            processed.append(dict_final)\n",
    "    \n",
    "    return processed      "
   ]
  },
  {
   "cell_type": "code",
   "execution_count": 6,
   "metadata": {},
   "outputs": [
    {
     "name": "stdout",
     "output_type": "stream",
     "text": [
      "CPU times: user 2.27 ms, sys: 128 ms, total: 130 ms\n",
      "Wall time: 130 ms\n"
     ]
    }
   ],
   "source": [
    "%%time\n",
    "\n",
    "if re_run:\n",
    "    \n",
    "    corpus = tuple(text_sequencer(dict_yelp, review) for review in reviews)\n",
    "    corpus = sequence.pad_sequences(corpus, maxlen=200)\n",
    "    assert corpus.shape == (490049, 200)\n",
    "    # this is the converted corpus array, not bow\n",
    "    np.save('../../data/processed/corpus.npy', corpus)\n",
    "\n",
    "else:\n",
    "    corpus = np.load('../../data/processed/corpus.npy')"
   ]
  },
  {
   "cell_type": "markdown",
   "metadata": {},
   "source": [
    "## Integrating glove embeddings"
   ]
  },
  {
   "cell_type": "code",
   "execution_count": 7,
   "metadata": {},
   "outputs": [],
   "source": [
    "def load_embeddings(emb_path = '/projects/embeddings/data/'):\n",
    "    # load glove vectors\n",
    "    embeddings_index={}\n",
    "    with zip.ZipFile(expanduser(\"~\")+ emb_path +'glove.6B.zip', 'r') as f:\n",
    "        with f.open('glove.6B.100d.txt', 'r') as z:\n",
    "            for line in z:\n",
    "                values = line.split()\n",
    "                word = values[0]\n",
    "                coefs = np.asarray(values[1:], dtype='float32')\n",
    "                embeddings_index[word] = coefs\n",
    "    \n",
    "    return embeddings_index\n",
    "\n",
    "def id_to_glove(keys, dict_yelp):\n",
    "    \n",
    "    embeddings_index = load_embeddings()\n",
    "    conversion_table = {}\n",
    "    for key in keys:\n",
    "        if bytes(key, 'utf-8') in embeddings_index.keys():\n",
    "            conversion_table[dict_yelp.token2id[key]+1] = embeddings_index[bytes(key, 'utf-8')]\n",
    "        else:\n",
    "            conversion_table[dict_yelp.token2id[key]+1] = np.random.randn(100)\n",
    "    return conversion_table"
   ]
  },
  {
   "cell_type": "code",
   "execution_count": 8,
   "metadata": {},
   "outputs": [
    {
     "name": "stdout",
     "output_type": "stream",
     "text": [
      "CPU times: user 17.2 s, sys: 155 ms, total: 17.3 s\n",
      "Wall time: 17.4 s\n"
     ]
    }
   ],
   "source": [
    "%%time\n",
    "conversion_table = id_to_glove(dict_yelp.token2id.keys(), dict_yelp)\n",
    "embedding_matrix= np.vstack(conversion_table.values())\n",
    "embedding_matrix = np.vstack((np.zeros(100), embedding_matrix, np.random.randn(100)))"
   ]
  },
  {
   "cell_type": "markdown",
   "metadata": {},
   "source": [
    "## Labels"
   ]
  },
  {
   "cell_type": "code",
   "execution_count": 9,
   "metadata": {},
   "outputs": [],
   "source": [
    "def convert_rating(rating):\n",
    "    if rating in [4,5]:\n",
    "        return 1\n",
    "    elif rating in [1,2]:\n",
    "        return 0\n",
    "    else:\n",
    "        return None\n",
    "    \n",
    "def get_rating_set(corpus, stars):\n",
    "    \n",
    "    \n",
    "    mids = set()\n",
    "    \n",
    "    def get_mids():\n",
    "\n",
    "        for i, rating in enumerate(stars):\n",
    "            if rating is None:\n",
    "                mids.add(i)\n",
    "    \n",
    "    get_mids()\n",
    "    idx, filtered_corpus, filtered_stars = [], [], []\n",
    "    \n",
    "    for i in range(len(corpus)):\n",
    "        if i in mids:\n",
    "            next\n",
    "        else:\n",
    "            idx.append(i), filtered_corpus.append(corpus[i]), filtered_stars.append(stars[i])\n",
    "    \n",
    "    return idx, np.stack(filtered_corpus), np.array(filtered_stars)"
   ]
  },
  {
   "cell_type": "code",
   "execution_count": 10,
   "metadata": {},
   "outputs": [],
   "source": [
    "if re_run:\n",
    "    stars = [convert_rating(restaurant['stars']) for restaurant in restaurants]\n",
    "    idx, data, lab = get_rating_set(corpus, stars)\n",
    "    with open('../../data/numpy/ratings.npy', 'wb') as outf:\n",
    "        np.save(outf, lab)\n",
    "    with open('../../data/numpy/corpus.npy', 'wb') as outf:\n",
    "        np.save(outf, data)\n",
    "else:\n",
    "    data, lab = np.load('../../data/numpy/corpus.npy'), np.load('../../data/numpy/ratings.npy')"
   ]
  },
  {
   "cell_type": "code",
   "execution_count": 11,
   "metadata": {},
   "outputs": [],
   "source": [
    "train, val, train_y, val_y = train_test_split(data, lab, test_size = 0.2)"
   ]
  },
  {
   "cell_type": "code",
   "execution_count": 12,
   "metadata": {},
   "outputs": [
    {
     "name": "stderr",
     "output_type": "stream",
     "text": [
      "/home/ryeyoo/miniconda3/envs/keras/lib/python3.6/site-packages/scipy/stats/stats.py:1713: FutureWarning: Using a non-tuple sequence for multidimensional indexing is deprecated; use `arr[tuple(seq)]` instead of `arr[seq]`. In the future this will be interpreted as an array index, `arr[np.array(seq)]`, which will result either in an error or a different result.\n",
      "  return np.add.reduce(sorted[indexer] * weights, axis=axis) / sumval\n"
     ]
    },
    {
     "data": {
      "image/png": "[encoded data removed]",
      "text/plain": [
       "<Figure size 432x288 with 1 Axes>"
      ]
     },
     "metadata": {
      "needs_background": "light"
     },
     "output_type": "display_data"
    }
   ],
   "source": [
    "sns.barplot(x = lab, y = lab, estimator=lambda x: len(x)/len(lab))\n",
    "plt.show()"
   ]
  },
  {
   "cell_type": "markdown",
   "metadata": {},
   "source": [
    "## Modeling "
   ]
  },
  {
   "cell_type": "code",
   "execution_count": 13,
   "metadata": {},
   "outputs": [],
   "source": [
    "vocab_size = len(dict_yelp)\n",
    "Adam = optimizers.Adam(lr=0.001, beta_1=0.99, beta_2=0.99, epsilon=1e-08, decay=0.01)\n",
    "sgd = optimizers.SGD(lr=0.001, decay=1e-6, momentum=0.9, nesterov=True)"
   ]
  },
  {
   "cell_type": "code",
   "execution_count": 14,
   "metadata": {},
   "outputs": [],
   "source": [
    "# units for output size in Dense layer, vocab_size for number of features in nlp in Embedding \n",
    "# tried adding dropout but it lowered accuracy, shouldn't need it if it's not overfitting\n",
    "def get_model():\n",
    "    model = models.Sequential()\n",
    "    model.add(Embedding(len(embedding_matrix), 100, input_length=200,  embeddings_regularizer=regularizers.l2(1e-6), weights = [embedding_matrix]))\n",
    "    model.add(Conv1D(100, 5))\n",
    "    model.add(Conv1D(100, 3))\n",
    "    model.add(MaxPooling1D(4))\n",
    "    model.add(LSTM(67))\n",
    "    model.add(Dense(1, activation='sigmoid'))\n",
    "    model.compile(optimizer=Adam, loss='binary_crossentropy', metrics=['accuracy'])\n",
    "    model.summary()\n",
    "    return model\n",
    "\n",
    "#model = get_model()"
   ]
  },
  {
   "cell_type": "code",
   "execution_count": 15,
   "metadata": {},
   "outputs": [],
   "source": [
    "def get_model2():\n",
    "    model = models.Sequential()\n",
    "    model.add(Embedding(len(embedding_matrix), 100, input_length=200,  embeddings_regularizer=regularizers.l2(1e-6), weights = [embedding_matrix]))\n",
    "    model.add(Bidirectional(CuDNNLSTM(67, return_sequences = True)))\n",
    "    model.add(Bidirectional(CuDNNLSTM(67)))\n",
    "    model.add(Dense(31))\n",
    "    model.add(Dense(1, activation='sigmoid'))\n",
    "    model.compile(optimizer=Adam, loss='binary_crossentropy', metrics=['accuracy'])\n",
    "    model.summary()\n",
    "    return model"
   ]
  },
  {
   "cell_type": "code",
   "execution_count": 16,
   "metadata": {},
   "outputs": [],
   "source": [
    "def get_model3():\n",
    "    model = models.Sequential()\n",
    "    model.add(Embedding(len(embedding_matrix), 100, input_length=200,  embeddings_regularizer=regularizers.l2(.0001), weights = [embedding_matrix]))\n",
    "    model.add(CuDNNLSTM(67))\n",
    "    model.add(Dense(31))\n",
    "    model.add(Dense(1, activation='sigmoid'))\n",
    "    model.compile(optimizer=sgd, loss='binary_crossentropy', metrics=['binary_crossentropy', 'accuracy'])\n",
    "    model.summary()\n",
    "    return model"
   ]
  },
  {
   "cell_type": "markdown",
   "metadata": {},
   "source": [
    "## Training"
   ]
  },
  {
   "cell_type": "code",
   "execution_count": 17,
   "metadata": {},
   "outputs": [
    {
     "name": "stdout",
     "output_type": "stream",
     "text": [
      "_________________________________________________________________\n",
      "Layer (type)                 Output Shape              Param #   \n",
      "=================================================================\n",
      "embedding_1 (Embedding)      (None, 200, 100)          1300200   \n",
      "_________________________________________________________________\n",
      "cu_dnnlstm_1 (CuDNNLSTM)     (None, 67)                45292     \n",
      "_________________________________________________________________\n",
      "dense_1 (Dense)              (None, 31)                2108      \n",
      "_________________________________________________________________\n",
      "dense_2 (Dense)              (None, 1)                 32        \n",
      "=================================================================\n",
      "Total params: 1,347,632\n",
      "Trainable params: 1,347,632\n",
      "Non-trainable params: 0\n",
      "_________________________________________________________________\n"
     ]
    }
   ],
   "source": [
    "model = get_model3()"
   ]
  },
  {
   "cell_type": "code",
   "execution_count": 18,
   "metadata": {},
   "outputs": [
    {
     "name": "stdout",
     "output_type": "stream",
     "text": [
      "Train on 267212 samples, validate on 66804 samples\n",
      "Epoch 1/2\n",
      "267212/267212 [==============================] - 16s 61us/step - loss: 41.9354 - binary_crossentropy: 0.5574 - acc: 0.7500 - val_loss: 41.8751 - val_binary_crossentropy: 0.5415 - val_acc: 0.7534\n",
      "Epoch 2/2\n",
      "267212/267212 [==============================] - 15s 57us/step - loss: 41.7773 - binary_crossentropy: 0.4878 - acc: 0.7724 - val_loss: 41.6543 - val_binary_crossentropy: 0.4090 - val_acc: 0.8150\n"
     ]
    },
    {
     "data": {
      "text/plain": [
       "<keras.callbacks.History at 0x7f6ab2bc60b8>"
      ]
     },
     "execution_count": 18,
     "metadata": {},
     "output_type": "execute_result"
    }
   ],
   "source": [
    "model.fit(train, train_y, batch_size=500, epochs=2, verbose=1, validation_split=0.2)"
   ]
  },
  {
   "cell_type": "code",
   "execution_count": 19,
   "metadata": {},
   "outputs": [],
   "source": [
    "# # reset weights if necessary\n",
    "# model.reset_states()\n",
    "# adjust lr since val loss increases, seems to be going past minimum\n",
    "K.set_value(model.optimizer.lr, 0.0001)\n"
   ]
  },
  {
   "cell_type": "code",
   "execution_count": 21,
   "metadata": {},
   "outputs": [
    {
     "name": "stdout",
     "output_type": "stream",
     "text": [
      "Train on 267212 samples, validate on 66804 samples\n",
      "Epoch 1/2\n",
      "267212/267212 [==============================] - 15s 57us/step - loss: 41.6345 - binary_crossentropy: 0.3945 - acc: 0.8285 - val_loss: 41.6246 - val_binary_crossentropy: 0.3889 - val_acc: 0.8319\n",
      "Epoch 2/2\n",
      "267212/267212 [==============================] - 16s 58us/step - loss: 41.6159 - binary_crossentropy: 0.3843 - acc: 0.8335 - val_loss: 41.6085 - val_binary_crossentropy: 0.3811 - val_acc: 0.8391\n"
     ]
    },
    {
     "data": {
      "text/plain": [
       "<keras.callbacks.History at 0x7f6ab2bc6208>"
      ]
     },
     "execution_count": 21,
     "metadata": {},
     "output_type": "execute_result"
    }
   ],
   "source": [
    "model.fit(train, train_y, batch_size=500, epochs=2, verbose=1, validation_split=0.2)"
   ]
  },
  {
   "cell_type": "code",
   "execution_count": 23,
   "metadata": {},
   "outputs": [],
   "source": [
    "if re_run:\n",
    "    model.save('../../data/models/lstm.hdfs')\n",
    "else:\n",
    "    from keras.models import load_model\n",
    "    model = load_model('../../data/models/lstm.hdfs')"
   ]
  },
  {
   "cell_type": "markdown",
   "metadata": {},
   "source": [
    "## Evaluation"
   ]
  },
  {
   "cell_type": "code",
   "execution_count": 25,
   "metadata": {},
   "outputs": [],
   "source": [
    "from keras.models import load_model\n",
    "model = load_model('../../data/models/lstm.hdfs')"
   ]
  },
  {
   "cell_type": "code",
   "execution_count": 26,
   "metadata": {},
   "outputs": [
    {
     "name": "stdout",
     "output_type": "stream",
     "text": [
      "['loss', 'binary_crossentropy', 'acc']\n",
      "83504/83504 [==============================] - 2s 19us/step\n"
     ]
    },
    {
     "data": {
      "text/plain": [
       "[0.5768013054422547, 0.4435813937751634, 0.8304392592126689]"
      ]
     },
     "execution_count": 26,
     "metadata": {},
     "output_type": "execute_result"
    }
   ],
   "source": [
    "# The loss displayed is a running average over the training epoch, \n",
    "# whereas the metric is calculated over the test set at the end of the epoch.\n",
    "print(model.metrics_names)\n",
    "model.evaluate(val, val_y, batch_size=500, verbose=1)"
   ]
  },
  {
   "cell_type": "code",
   "execution_count": 27,
   "metadata": {},
   "outputs": [],
   "source": [
    "def evaluate(val, val_y, regression = False):\n",
    "    \n",
    "        \n",
    "    preds = model.predict(val)\n",
    "    #idx = np.random.randint(0, len(val_y), 5000)\n",
    "    pred_err = np.subtract(val_y.astype('float32'), preds.reshape(-1))\n",
    "    sns.distplot(pred_err)\n",
    "    plt.show()\n",
    "   \n",
    "    if regression:\n",
    "        rmse = np.sqrt(np.mean(pred_err**2))\n",
    "        print('rmse : %.4f' % rmse)\n",
    "    else:\n",
    "        cond_error = round((abs(pred_err) >= 0.5).sum()/len(pred_err), 4)\n",
    "        binary_cross_entropy = np.mean(\n",
    "                                        val_y * np.log(preds.reshape(-1)) + \\\n",
    "                                       (1-val_y) * np.log(1-preds.reshape(-1))\n",
    "        ) \n",
    "    \n",
    "        print('prob error is greater than 0.5 is %.4f' % cond_error)\n",
    "        print('binary cross entropy is %.4f' % binary_cross_entropy)\n",
    "    "
   ]
  },
  {
   "cell_type": "code",
   "execution_count": 28,
   "metadata": {},
   "outputs": [
    {
     "data": {
      "image/png": "[encoded data removed]",
      "text/plain": [
       "<Figure size 432x288 with 1 Axes>"
      ]
     },
     "metadata": {
      "needs_background": "light"
     },
     "output_type": "display_data"
    },
    {
     "name": "stdout",
     "output_type": "stream",
     "text": [
      "prob error is greater than 0.5 is 0.1696\n",
      "binary cross entropy is -0.4436\n"
     ]
    }
   ],
   "source": [
    "evaluate(val, val_y)"
   ]
  }
 ],
 "metadata": {
  "kernelspec": {
   "display_name": "Python 3",
   "language": "python",
   "name": "python3"
  },
  "language_info": {
   "codemirror_mode": {
    "name": "ipython",
    "version": 3
   },
   "file_extension": ".py",
   "mimetype": "text/x-python",
   "name": "python",
   "nbconvert_exporter": "python",
   "pygments_lexer": "ipython3",
   "version": "3.6.8"
  }
 },
 "nbformat": 4,
 "nbformat_minor": 2
}
