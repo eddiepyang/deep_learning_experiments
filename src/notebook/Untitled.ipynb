{
 "cells": [
  {
   "cell_type": "code",
   "execution_count": 3,
   "metadata": {},
   "outputs": [],
   "source": [
    "import os"
   ]
  },
  {
   "cell_type": "code",
   "execution_count": 4,
   "metadata": {},
   "outputs": [
    {
     "data": {
      "text/plain": [
       "['Modern_NLP_in_Python (1).ipynb',\n",
       " 'models',\n",
       " 'gensim_walkthrough.ipynb',\n",
       " 'ratings.txt',\n",
       " 'yelp_lda.state',\n",
       " 'ratings.npy',\n",
       " '.git',\n",
       " 'data',\n",
       " 'yelp_lda',\n",
       " 'phrase modeling test.ipynb',\n",
       " 'yelp_lda.expElogbeta.npy',\n",
       " 'Untitled.ipynb',\n",
       " '.ipynb_checkpoints',\n",
       " 'reviews_sample_data.txt',\n",
       " 'yelp_lda.id2word',\n",
       " 'processed',\n",
       " 'embedding.ipynb',\n",
       " 'refactored.py']"
      ]
     },
     "execution_count": 4,
     "metadata": {},
     "output_type": "execute_result"
    }
   ],
   "source": [
    "os.listdir()"
   ]
  },
  {
   "cell_type": "code",
   "execution_count": 1,
   "metadata": {},
   "outputs": [],
   "source": [
    "import matplotlib.pyplot as plt"
   ]
  }
 ],
 "metadata": {
  "kernelspec": {
   "display_name": "Python 3",
   "language": "python",
   "name": "python3"
  },
  "language_info": {
   "codemirror_mode": {
    "name": "ipython",
    "version": 3
   },
   "file_extension": ".py",
   "mimetype": "text/x-python",
   "name": "python",
   "nbconvert_exporter": "python",
   "pygments_lexer": "ipython3",
   "version": "3.6.5"
  }
 },
 "nbformat": 4,
 "nbformat_minor": 2
}
