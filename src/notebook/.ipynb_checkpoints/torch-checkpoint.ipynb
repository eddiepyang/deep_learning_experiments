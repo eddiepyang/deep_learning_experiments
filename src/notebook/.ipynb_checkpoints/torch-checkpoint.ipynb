{
 "cells": [
  {
   "cell_type": "markdown",
   "metadata": {},
   "source": [
    "# Sentiment analysis with RNN"
   ]
  },
  {
   "cell_type": "code",
   "execution_count": 1,
   "metadata": {
    "scrolled": true
   },
   "outputs": [],
   "source": [
    "import numpy as np\n",
    "import scipy.sparse\n",
    "import json\n",
    "import zipfile\n",
    "\n",
    "import spacy\n",
    "from gensim import corpora\n",
    "from gensim.models import tfidfmodel\n",
    "from gensim.matutils import corpus2csc\n",
    "from gensim.corpora.dictionary import Dictionary\n",
    "\n",
    "import matplotlib.pyplot as plt\n",
    "import seaborn as sns\n",
    "\n",
    "import sys\n",
    "from collections import Counter, OrderedDict\n",
    "from os.path import expanduser\n",
    "import re, time\n",
    "from sklearn.model_selection import train_test_split\n",
    "\n",
    "import torch\n",
    "import torch.nn.utils.rnn as rnn\n",
    "import torch.nn as nn\n",
    "from torch.utils.data import Dataset, DataLoader\n",
    "import torch.nn.functional as F\n",
    "import torch.optim as optim\n",
    "\n",
    "from itertools import zip_longest\n",
    "from operator import itemgetter"
   ]
  },
  {
   "cell_type": "code",
   "execution_count": 66,
   "metadata": {},
   "outputs": [
    {
     "data": {
      "text/plain": [
       "'GeForce GTX 1080'"
      ]
     },
     "execution_count": 66,
     "metadata": {},
     "output_type": "execute_result"
    }
   ],
   "source": [
    "re_run = True\n",
    "torch.cuda.get_device_name(0)"
   ]
  },
  {
   "cell_type": "markdown",
   "metadata": {},
   "source": [
    "# Importing"
   ]
  },
  {
   "cell_type": "markdown",
   "metadata": {},
   "source": [
    "Reviews were tokenized with spacy beforehand, stop words and punctuation were removed."
   ]
  },
  {
   "cell_type": "code",
   "execution_count": 67,
   "metadata": {},
   "outputs": [
    {
     "name": "stdout",
     "output_type": "stream",
     "text": [
      "CPU times: user 11.9 s, sys: 1.13 s, total: 13 s\n",
      "Wall time: 13.1 s\n"
     ]
    }
   ],
   "source": [
    "%%time\n",
    "if re_run:\n",
    "    # processed from gensim_walkthrough notebook\n",
    "    with open('../../data/processed/processed.txt', 'r') as f:\n",
    "        restaurants = {i:json.loads(line) for i, line in enumerate(f)}\n",
    "\n",
    "    # different text cleaning for reviews\n",
    "    with open('../../data/processed/reviews_cleaned.txt', 'r') as f:\n",
    "        reviews = tuple(json.loads(line) for line in f)"
   ]
  },
  {
   "cell_type": "code",
   "execution_count": 3,
   "metadata": {},
   "outputs": [],
   "source": [
    "\n",
    "# def make_labels(lsls):\n",
    "#     now = time.time()\n",
    "#     dc={}\n",
    "    \n",
    "#     for ls in lsls:\n",
    "#         make_dict(ls, dc=dc)\n",
    "#     print(time.time() - now)\n",
    "#     return dc\n",
    "\n",
    "# regex tokenize, less accurate\n",
    "def tokenize(x): return re.findall('\\w+', x)"
   ]
  },
  {
   "cell_type": "code",
   "execution_count": 68,
   "metadata": {},
   "outputs": [],
   "source": [
    "def update_dict(line, dc):\n",
    "\n",
    "        for i in range(len(line)):\n",
    "            dc.setdefault(line[i], len(dc))\n",
    "        \n",
    "def create_label_dict(restaurants):\n",
    "    \n",
    "    categories = {}\n",
    "    odd = []\n",
    "    \n",
    "    for i in range(len(restaurants)):\n",
    "        if 'Restaurants' in restaurants[i]['category']:\n",
    "            update_dict(restaurants[i]['category'], dc = categories)\n",
    "            \n",
    "        if any(item in restaurants[i]['category'] for item in ['Chiropractors', 'Contractors']):\n",
    "            odd.append(restaurants[i])\n",
    "    return odd, categories\n",
    "\n",
    "if re_run:\n",
    "    \n",
    "    _, categories = create_label_dict(restaurants)"
   ]
  },
  {
   "cell_type": "code",
   "execution_count": 4,
   "metadata": {},
   "outputs": [],
   "source": [
    "def create_labels(num_documents, num_labels, restaurants):\n",
    "    \n",
    "    sparse = np.zeros((num_documents, num_labels))\n",
    "    for i in range(len(reviews)):\n",
    "        for item in restaurants[i]['category']:\n",
    "            sparse[i, categories[item]] = 1\n",
    "    \n",
    "    return sparse\n",
    "\n",
    "if re_run:\n",
    "    sparse=create_labels(len(restaurants), len(categories), restaurants)\n",
    "    np.save('../../data/processed/sparse_labels.npy', sparse)\n",
    "else:\n",
    "    sparse=np.load('../../data/processed/sparse_labels.npy')"
   ]
  },
  {
   "cell_type": "code",
   "execution_count": 117,
   "metadata": {},
   "outputs": [
    {
     "data": {
      "text/plain": [
       "1.0"
      ]
     },
     "execution_count": 117,
     "metadata": {},
     "output_type": "execute_result"
    }
   ],
   "source": [
    "# # test\n",
    "# check = []\n",
    "# for i in range(len(restaurants)):\n",
    "#     res=[categories[item] for item in restaurants[i]['category']]\n",
    "#     res.sort()\n",
    "#     check.append(np.mean(np.argwhere(sparse[i,]).reshape(1,-1)[0]==np.array(res)))\n",
    "# assert(np.min(check) == 1)"
   ]
  },
  {
   "cell_type": "code",
   "execution_count": 5,
   "metadata": {},
   "outputs": [],
   "source": [
    "# # rebuild reviews from json data\n",
    "\n",
    "# label_dc = {}\n",
    "# i=0\n",
    "# texts= []\n",
    "# idx = []\n",
    "\n",
    "# for ls in restaurants.values():\n",
    "    \n",
    "    \n",
    "#     if 'Restaurants' in ls['category']:\n",
    "#         try:\n",
    "#             idx.append(i), make_dict(ls['category'], adc=label_dc), texts.append(tokenize(ls['text'].lower()))\n",
    "#         except Exception as e:\n",
    "#             print(e, i)\n",
    "\n",
    "#     i +=1\n",
    "#     if i % 100000 == 0:\n",
    "#         print(f'{i} lines have completed there are currently {len(label_dc.keys())} keys')\n",
    "\n",
    "# # vocab = make_labels(texts)\n",
    "# # corpus = [[vocab[word] for word in line] for line in texts]"
   ]
  },
  {
   "cell_type": "markdown",
   "metadata": {},
   "source": [
    "## Building vocab with gensim"
   ]
  },
  {
   "cell_type": "markdown",
   "metadata": {},
   "source": [
    "Skipping a step by not creating two dictionaries for train and test, they get recombined anyway for an update of new data though."
   ]
  },
  {
   "cell_type": "code",
   "execution_count": 5,
   "metadata": {},
   "outputs": [
    {
     "name": "stdout",
     "output_type": "stream",
     "text": [
      "18062\n",
      "CPU times: user 6.34 ms, sys: 6.59 ms, total: 12.9 ms\n",
      "Wall time: 18.7 ms\n"
     ]
    }
   ],
   "source": [
    "%%time\n",
    "\n",
    "if re_run:\n",
    "    \n",
    "    # create dictionary\n",
    "    dict_yelp = corpora.Dictionary(reviews)\n",
    "    # tune corpus to get a smaller dictionary and therefore a smaller doc_term matrix, \n",
    "    # embeddings will still work but bow will not fit into 8gb gpu otherwise\n",
    "    dict_yelp.filter_extremes(no_below=20, no_above=.99, keep_n=30000)\n",
    "    dict_yelp.save('../../data/processed/dictionary')\n",
    "\n",
    "else:\n",
    "    \n",
    "    dict_yelp = corpora.Dictionary.load('../../data/processed/dictionary')\n",
    "\n",
    "print(len(dict_yelp))"
   ]
  },
  {
   "cell_type": "code",
   "execution_count": 16,
   "metadata": {},
   "outputs": [],
   "source": [
    "if re_run:\n",
    "    # most common words\n",
    "    top_ids = sorted(dict_yelp.dfs.items(), key=itemgetter(1), reverse=True)[0:100]\n",
    "    counts=[(dict_yelp[item[0]], item[1]) for item in top_ids]\n",
    "    counts"
   ]
  },
  {
   "cell_type": "code",
   "execution_count": 6,
   "metadata": {},
   "outputs": [],
   "source": [
    "def text_sequencer(dictionary, text, max_len=200):\n",
    "    \n",
    "    processed = []\n",
    "    # in case the word is not in the dictionary because it was filtered out use this number to represent an out of set id \n",
    "    dict_final = len(dictionary.keys())+1\n",
    "    \n",
    "    for i, word in enumerate(text):        \n",
    "        if i > max_len-1:\n",
    "            break\n",
    "        if word in dictionary.token2id.keys():\n",
    "    # remember the ids have an offset of 1 for this because 0 represents a padded value        \n",
    "            processed.append(dictionary.token2id[word] + 1) \n",
    "        else:\n",
    "            processed.append(dict_final)\n",
    "    \n",
    "    return processed"
   ]
  },
  {
   "cell_type": "code",
   "execution_count": 7,
   "metadata": {},
   "outputs": [
    {
     "name": "stdout",
     "output_type": "stream",
     "text": [
      "CPU times: user 2.43 s, sys: 241 ms, total: 2.67 s\n",
      "Wall time: 2.68 s\n"
     ]
    }
   ],
   "source": [
    "%%time\n",
    "\n",
    "if re_run:\n",
    "    \n",
    "    corpus = [text_sequencer(dict_yelp, review) for review in reviews]\n",
    "    #corpus_ = prep_data(corpus)\n",
    "    \n",
    "    # converted corpus array, will be a np matrix\n",
    "    np.save('../../data/processed/corpus.npy', corpus)\n",
    "\n",
    "else:\n",
    "    \n",
    "    corpus = np.load('../../data/processed/corpus.npy')"
   ]
  },
  {
   "cell_type": "code",
   "execution_count": 8,
   "metadata": {},
   "outputs": [],
   "source": [
    "def make_dataset(data, indices):\n",
    "    ls=[]\n",
    "    for idx in indices:\n",
    "        ls.append(data[idx])\n",
    "    return ls\n",
    "    "
   ]
  },
  {
   "cell_type": "markdown",
   "metadata": {},
   "source": [
    "## Integrating glove embeddings"
   ]
  },
  {
   "cell_type": "code",
   "execution_count": 9,
   "metadata": {},
   "outputs": [],
   "source": [
    "def load_embeddings(emb_path = '/projects/embeddings/data/'):\n",
    "    # load glove vectors\n",
    "    embeddings_index={}\n",
    "    with zipfile.ZipFile(expanduser(\"~\")+ emb_path +'glove.6B.zip', 'r') as f:\n",
    "        with f.open('glove.6B.100d.txt', 'r') as z:\n",
    "            for line in z:\n",
    "                values = line.split()\n",
    "                word = values[0]\n",
    "                coefs = np.asarray(values[1:], dtype='float32')\n",
    "                embeddings_index[word] = coefs\n",
    "    \n",
    "    return embeddings_index\n",
    "\n",
    "def id_to_glove(dict_yelp):\n",
    "    \n",
    "    embeddings_index = load_embeddings()\n",
    "    conversion_table = {}\n",
    "    \n",
    "    for word in dict_yelp.values():\n",
    "        if bytes(word, 'utf-8') in embeddings_index.keys():\n",
    "            conversion_table[dict_yelp.token2id[word]+1] = embeddings_index[bytes(word, 'utf-8')]\n",
    "        else:\n",
    "            conversion_table[dict_yelp.token2id[word]+1] = np.random.normal(0, .32, 100)\n",
    "            \n",
    "    embedding_matrix = np.vstack((np.zeros(100), np.vstack(conversion_table.values()), np.random.randn(100)))\n",
    "    \n",
    "    return embedding_matrix"
   ]
  },
  {
   "cell_type": "code",
   "execution_count": 10,
   "metadata": {},
   "outputs": [
    {
     "name": "stdout",
     "output_type": "stream",
     "text": [
      "CPU times: user 13 s, sys: 236 ms, total: 13.3 s\n",
      "Wall time: 12.7 s\n"
     ]
    }
   ],
   "source": [
    "%%time\n",
    "embedding_matrix = id_to_glove(dict_yelp)\n"
   ]
  },
  {
   "cell_type": "markdown",
   "metadata": {},
   "source": [
    "## Labels"
   ]
  },
  {
   "cell_type": "code",
   "execution_count": 11,
   "metadata": {},
   "outputs": [],
   "source": [
    "def prep_data(sents, targets, stack=False, pad = False, pack = False, sort=False):\n",
    "    \n",
    "    # creates index, filters out no text\n",
    "    res =[(i, line, targets[i], len(line)) for i, line in enumerate(sents)]\n",
    "    res = filter(lambda x:x[3] > 0, res)\n",
    "    \n",
    "    if sort:\n",
    "        res = sorted(res, key=itemgetter(3), reverse=True)\n",
    "    \n",
    "    idx, seqs, labels, seq_lens =[], [], [], []\n",
    "\n",
    "    for item in res:\n",
    "    \n",
    "        idx.append(item[0]), seqs.append(item[1]), labels.append(item[2]), seq_lens.append(item[3])\n",
    "    \n",
    "    if pad:\n",
    "        # note that zip longest transposes the matrix\n",
    "        padded=list(zip_longest(*seqs, fillvalue=0))\n",
    "        # transpose back\n",
    "        seqs=list(zip_longest(*padded))\n",
    "    \n",
    "    if pack:\n",
    "        # assumes no padding\n",
    "        seqs= rnn.pack_sequence(seqs) \n",
    "    \n",
    "    if stack:\n",
    "        # stack if all padded to same lens\n",
    "        seqs=np.stack(seqs)\n",
    "        \n",
    "    return idx, seqs, np.array(labels), np.array(seq_lens)\n",
    "\n",
    "# need to add original index so we can resort in case of packing\n",
    "class CorpusData(Dataset):\n",
    "    \n",
    "    def __init__(self, index=None, data=None, labels=None, lens=None, test_size=0.25):\n",
    "        #super().__init__()\n",
    "        self.corpus = data\n",
    "        self.labels = labels\n",
    "        self.test_size = test_size\n",
    "        self.lens = lens\n",
    "        self.idx = index\n",
    "        self.tr_idx, self.test_idx = None, None\n",
    "        \n",
    "    def __len__(self):\n",
    "        return self.corpus.__len__()\n",
    "    \n",
    "    def __getitem__(self, i):\n",
    "        \n",
    "        if self.lens is None:\n",
    "            return self.corpus[i], self.labels[i]\n",
    "        else:\n",
    "            return self.corpus[i], self.labels[i], self.lens[i]\n",
    "    \n",
    "    @classmethod\n",
    "    def split_validation(cls, corpus):\n",
    "        \n",
    "        tr_idx, val_idx = train_test_split(range(len(corpus)))\n",
    "        return cls(corpus[tr_idx]), cls(corpus[val_idx])"
   ]
  },
  {
   "cell_type": "code",
   "execution_count": 12,
   "metadata": {},
   "outputs": [],
   "source": [
    "def sort_array(all_lens): \n",
    "    return np.unique(all_lens), np.bincount(all_lens), len(np.unique(all_lens)), len(np.bincount(all_lens))"
   ]
  },
  {
   "cell_type": "code",
   "execution_count": 13,
   "metadata": {},
   "outputs": [],
   "source": [
    "def resort_lens(idx, lens):\n",
    "    resorted_lenidx = np.array(sorted(zip(idx, lens), key=itemgetter(1), reverse=True))\n",
    "    return resorted_lenidx\n",
    "\n",
    "def resample_data(data, label, idx, lens):\n",
    "    \n",
    "        if isinstance(data, np.ndarray):\n",
    "            pass\n",
    "        else:\n",
    "            data= np.array(data)\n",
    "        assert len(data) == len(label)\n",
    "        sorted_ = resort_lens(idx, lens)\n",
    "        return data[sorted_[:,0]], label[sorted_[:,0]], sorted_[:,1]\n",
    "    \n",
    "def sort_lens(x, y, lens):\n",
    "    x=torch.stack(x,dim=1)\n",
    "    lens_, indices = lens.sort(descending=True)\n",
    "    x_, y_ = x[indices], y[indices]\n",
    "    return x_, y_, lens_\n",
    "\n",
    "def split(sorted_data, sorted_lab, all_lens, random_state=5):\n",
    "    \n",
    "    tr_idx, val_idx, tr_lens, val_lens = train_test_split(range(len(all_lens)), all_lens, \\\n",
    "                     test_size = 0.2, stratify=all_lens,\\\n",
    "                     random_state=random_state)\n",
    "    \n",
    "    train, train_y, tr_lens_ = resample_data(sorted_data, sorted_lab, tr_idx, tr_lens)\n",
    "    val, val_y, val_lens_ = resample_data(sorted_data, sorted_lab, val_idx, val_lens)\n",
    "    return {'train':[tr_idx, train, train_y, tr_lens_], 'val':[val_idx, val, val_y, val_lens_]}"
   ]
  },
  {
   "cell_type": "code",
   "execution_count": 14,
   "metadata": {},
   "outputs": [
    {
     "name": "stdout",
     "output_type": "stream",
     "text": [
      "CPU times: user 17.7 s, sys: 1.11 s, total: 18.8 s\n",
      "Wall time: 18.8 s\n"
     ]
    }
   ],
   "source": [
    "%%time\n",
    "og_idx, unsorted_data, unsorted_lab, all_lens = prep_data(corpus, sparse, sort=False, pad=True, stack=True)\n",
    "train, val, train_y, val_y = train_test_split(unsorted_data, unsorted_lab)\n",
    "del corpus, unsorted_data, unsorted_lab, all_lens"
   ]
  },
  {
   "cell_type": "code",
   "execution_count": 24,
   "metadata": {},
   "outputs": [],
   "source": [
    "# %%time\n",
    "\n",
    "# # sorting needed for packing sequences\n",
    "# if re_run:\n",
    "#     og_idx, sorted_data, sorted_lab, all_lens = prep_data(data, lab, sort=True, pad=True, stack=True)\n",
    "#     np.save('../../data/processed/sorted_arrays.npy', [sorted_data, sorted_lab] )\n",
    "#     np.save('../../data/processed/idx_lens.npy', [og_idx, all_lens])\n",
    "# else:\n",
    "#     sorted_data, sorted_lab = np.load('../../data/processed/sorted_arrays.npy')\n",
    "#     og_idx, all_lens = np.load('../../data/processed/idx_lens.npy')\n",
    "#     sorted_data = np.stack(sorted_data)\n",
    "\n",
    "# split_dict = split(sorted_data, sorted_lab, all_lens)\n",
    "# _, train, train_y, tr_lens = split_dict['train']\n",
    "# _, val, val_y, val_lens = split_dict['val']"
   ]
  },
  {
   "cell_type": "code",
   "execution_count": 25,
   "metadata": {},
   "outputs": [],
   "source": [
    "def get_batches(x, y, bsize):\n",
    "    \n",
    "    count = int(len(y)/bsize)+1\n",
    "    def convert(lsls):\n",
    "        return torch.stack([torch.tensor(ls) for ls in lsls])\n",
    "    for i in range(count):\n",
    "        a,b,c = len(y[i*bsize:(i+1)*bsize]), x[i*bsize:(i+1)*bsize], y[i*bsize:(i+1)*bsize]\n",
    "        yield a, convert(b), torch.tensor(c) \n",
    "        \n"
   ]
  },
  {
   "cell_type": "code",
   "execution_count": 24,
   "metadata": {},
   "outputs": [],
   "source": [
    "class RNN(nn.Module):\n",
    "    \n",
    "    # weights are vocabsize x embedding length\n",
    "    def __init__(self, emb_weights, batch_size, input_len):\n",
    "    \n",
    "        super().__init__()\n",
    "        # vocab size in, hidden size out\n",
    "        self.batch_size = batch_size\n",
    "        self.embed_layer = nn.Embedding(emb_weights.shape[0], emb_weights.shape[1])\n",
    "        self.emb_weights = emb_weights\n",
    "        # input of shape (seq_len, batch, input_size) https://pytorch.org/docs/stable/nn.html\n",
    "        self.lstm = nn.LSTM(input_len, input_len)\n",
    "        \n",
    "        \"\"\"Input: (N, *, \\text{in\\_features})(N,∗,in_features) where *∗ means any number of additional dimensions\n",
    "        Output: (N, *, \\text{out\\_features})(N,∗,out_features) where all but the last dimension are the same shape as the input.\"\"\"\n",
    "        \n",
    "        self.fc1 = nn.Linear(input_len,1)\n",
    "        self.fc2 = nn.Linear(emb_weights.shape[1], 383)\n",
    "        \n",
    "\n",
    "    def load_weights(self):\n",
    "        self.embed_layer.load_state_dict({'weight': self.emb_weights})\n",
    "        return self\n",
    "    \n",
    "    def forward(self, inputs, p=0.2, verbose=False):\n",
    "        \n",
    "        \n",
    "        embeds = self.embed_layer(inputs)\n",
    "        \n",
    "        nn.Dropout2d(p=p, inplace=True)(embeds)\n",
    "        \n",
    "        if verbose:\n",
    "            print('embedding shape %s' % (embeds.shape,))\n",
    "        \n",
    "        out, (hidden, cell) = self.lstm(embeds.permute(0,2,1))\n",
    "        \n",
    "        if verbose:\n",
    "            print('lstm out shape %s' % (out.shape,))\n",
    "        \n",
    "        out = F.relu(self.fc1(out))\n",
    "        if verbose:\n",
    "            print('fc1 out shape %s' % (out.shape,))\n",
    "        \n",
    "        fout = torch.sigmoid(self.fc2(out.view(1,-1,100)))\n",
    "        if verbose:\n",
    "            print('final %s' % (fout.shape,))\n",
    "        #prob = torch.sigmoid(fout)\n",
    "        \n",
    "        return fout.view(-1,383)\n",
    "    \n",
    "class RNNpacked(nn.Module):\n",
    "    \n",
    "    def __init__(self, emb_weights, batch_size, input_len):\n",
    " \n",
    "        super().__init__()\n",
    "        \n",
    "        # vocab size in, hidden size out\n",
    "        self.batch_size = batch_size\n",
    "        self.embed_layer = nn.Embedding(emb_weights.shape[0], emb_weights.shape[1])\n",
    "        self.emb_weights = emb_weights\n",
    "        self.dropout1 = nn.Dropout(p=0.5, inplace=True) \n",
    "        self.dropout3d1 = nn.Dropout3d(p=0.5, inplace=True)\n",
    "        self.dropout3d2 = nn.Dropout3d(p=0.5, inplace=True)\n",
    "        \n",
    "        # input of shape (seq_len, batch, input_size) https://pytorch.org/docs/stable/nn.html\n",
    "        self.lstm = nn.LSTM(emb_weights.shape[1], emb_weights.shape[1])\n",
    "        self.dropout2d1 = nn.Dropout2d(p=0.5, inplace=True)\n",
    "        self.dropout2d2 = nn.Dropout2d(p=0.5, inplace=True)\n",
    "        \n",
    "        \"\"\"Input: (N, *, \\text{in\\_features})(N,∗,in_features) where *∗ means any number of additional \n",
    "        dimensions Output: (N, *, \\text{out\\_features})(N,∗,out_features) where all but the last dimension \n",
    "        are the same shape as the input.\"\"\"\n",
    "        \n",
    "        self.fc1 = nn.Linear(emb_weights.shape[1], 1)\n",
    "        self.fc2 = torch.sigmoid(nn.Linear(input_len,383))\n",
    "        \n",
    "        \n",
    "    def load_weights(self):\n",
    "        self.embed_layer.load_state_dict({'weight': self.emb_weights})\n",
    "        return self\n",
    "    \n",
    "    def forward(self, inputs, input_lengths=None, verbose=False):\n",
    "        if verbose:\n",
    "            print('inputs', inputs.shape)\n",
    "            \n",
    "        #self.dropout1(inputs)\n",
    "        embeds = self.embed_layer(inputs)\n",
    "        \n",
    "        if verbose:\n",
    "            print('embeds', embeds.shape)\n",
    "            print(embeds)\n",
    "        \n",
    "        #self.dropout3d1(embeds)\n",
    "        self.dropout2d1(embeds)\n",
    "        \n",
    "        if verbose:    \n",
    "            print(embeds)\n",
    "        packed = rnn.pack_padded_sequence(embeds, input_lengths, batch_first=True)\n",
    "        \n",
    "        if verbose:\n",
    "            print('packed', packed[0].shape)\n",
    "        out, (hidden, cell) = self.lstm(packed)\n",
    "        unpacked, lengths = rnn.pad_packed_sequence(out, total_length=200, batch_first=True)\n",
    "        \n",
    "        if verbose:\n",
    "            print('unpacked', unpacked.shape)\n",
    "        out = self.fc1(unpacked)\n",
    "        if verbose:\n",
    "            print('out', out.shape)\n",
    "        \n",
    "        self.dropout2d2(out)\n",
    "        #self.dropout3d2(out)\n",
    "        \n",
    "        fout = self.fc2(out.permute(0,2,1))\n",
    "        if verbose:\n",
    "            print('fout', fout.shape)\n",
    "        prob = F.sigmoid(fout)\n",
    "        \n",
    "        return fout.view(-1)\n"
   ]
  },
  {
   "cell_type": "code",
   "execution_count": 16,
   "metadata": {},
   "outputs": [],
   "source": [
    "#traincls = CorpusData(data=train, labels=train_y, lens=tr_lens)\n",
    "traincls = CorpusData(data=train, labels=train_y)\n",
    "train_loader = DataLoader(traincls, batch_size=2)"
   ]
  },
  {
   "cell_type": "code",
   "execution_count": 17,
   "metadata": {},
   "outputs": [],
   "source": [
    "def test_next(trainiter):\n",
    "    iterator = iter(trainiter)\n",
    "    x, y= next(iterator)\n",
    "    return x,y"
   ]
  },
  {
   "cell_type": "code",
   "execution_count": 26,
   "metadata": {},
   "outputs": [
    {
     "name": "stdout",
     "output_type": "stream",
     "text": [
      "embedding shape torch.Size([2, 200, 100])\n",
      "lstm out shape torch.Size([2, 100, 200])\n",
      "fc1 out shape torch.Size([2, 100, 1])\n",
      "final torch.Size([1, 2, 383])\n"
     ]
    },
    {
     "data": {
      "text/plain": [
       "tensor([[0.5125, 0.5083, 0.4921, 0.5033, 0.4908, 0.5114, 0.4786, 0.5220, 0.5072,\n",
       "         0.4850, 0.5233, 0.4957, 0.4907, 0.5225, 0.4926, 0.5091, 0.4811, 0.4782,\n",
       "         0.5050, 0.4883, 0.4871, 0.4943, 0.4968, 0.4785, 0.5042, 0.4924, 0.5068,\n",
       "         0.5004, 0.5072, 0.4750, 0.4954, 0.5092, 0.4947, 0.4884, 0.5133, 0.5000,\n",
       "         0.5142, 0.5131, 0.4951, 0.4827, 0.5029, 0.4999, 0.4924, 0.5225, 0.5155,\n",
       "         0.4815, 0.4860, 0.4980, 0.4920, 0.4860, 0.4892, 0.5012, 0.5131, 0.4863,\n",
       "         0.5176, 0.5133, 0.4975, 0.5280, 0.5039, 0.4795, 0.4978, 0.5026, 0.5159,\n",
       "         0.4800, 0.5003, 0.4937, 0.5050, 0.4772, 0.4855, 0.5197, 0.5191, 0.4828,\n",
       "         0.5144, 0.4913, 0.5068, 0.4981, 0.4932, 0.5229, 0.4756, 0.5142, 0.5202,\n",
       "         0.4948, 0.4835, 0.5088, 0.5003, 0.5251, 0.4894, 0.4930, 0.5200, 0.4906,\n",
       "         0.4735, 0.4982, 0.4940, 0.4820, 0.5229, 0.4853, 0.4853, 0.5042, 0.5140,\n",
       "         0.5103, 0.5195, 0.5024, 0.4927, 0.4938, 0.4956, 0.5107, 0.5074, 0.5017,\n",
       "         0.5094, 0.4940, 0.5155, 0.5216, 0.4980, 0.5154, 0.5031, 0.5087, 0.4999,\n",
       "         0.5191, 0.4790, 0.4863, 0.5046, 0.4959, 0.4837, 0.5174, 0.5106, 0.5240,\n",
       "         0.4904, 0.5022, 0.4963, 0.5181, 0.5140, 0.4796, 0.5160, 0.5075, 0.4907,\n",
       "         0.4982, 0.5194, 0.5011, 0.5082, 0.5224, 0.5101, 0.5254, 0.5117, 0.4774,\n",
       "         0.4831, 0.4822, 0.5051, 0.5193, 0.4861, 0.5166, 0.4923, 0.4764, 0.4857,\n",
       "         0.4812, 0.4773, 0.5144, 0.4945, 0.4945, 0.4886, 0.4966, 0.4831, 0.5234,\n",
       "         0.5065, 0.4991, 0.5000, 0.5249, 0.5102, 0.4783, 0.5030, 0.4923, 0.4872,\n",
       "         0.4818, 0.5076, 0.4843, 0.4959, 0.5225, 0.4788, 0.5044, 0.4887, 0.4788,\n",
       "         0.5220, 0.4961, 0.4898, 0.5003, 0.5024, 0.4752, 0.4888, 0.5067, 0.5045,\n",
       "         0.4796, 0.4994, 0.5058, 0.5214, 0.5118, 0.4970, 0.5008, 0.5093, 0.5079,\n",
       "         0.4949, 0.5029, 0.4833, 0.4921, 0.5013, 0.4746, 0.5162, 0.5072, 0.4886,\n",
       "         0.4837, 0.5219, 0.5195, 0.5056, 0.5176, 0.5207, 0.4990, 0.4943, 0.4993,\n",
       "         0.5102, 0.5023, 0.5250, 0.5060, 0.5156, 0.4984, 0.5205, 0.4888, 0.5167,\n",
       "         0.4818, 0.5119, 0.4828, 0.4951, 0.5177, 0.4950, 0.4955, 0.4891, 0.5235,\n",
       "         0.5006, 0.5214, 0.5116, 0.5226, 0.4821, 0.5116, 0.4899, 0.5111, 0.5089,\n",
       "         0.4826, 0.4787, 0.5121, 0.4874, 0.4980, 0.5054, 0.5026, 0.4905, 0.4892,\n",
       "         0.4706, 0.4878, 0.5134, 0.4868, 0.4891, 0.5152, 0.5116, 0.5115, 0.5034,\n",
       "         0.4782, 0.4950, 0.4731, 0.5233, 0.4798, 0.4913, 0.4872, 0.4955, 0.5032,\n",
       "         0.5243, 0.5020, 0.4809, 0.4968, 0.4946, 0.5002, 0.5039, 0.5010, 0.5197,\n",
       "         0.4971, 0.4919, 0.5197, 0.5124, 0.4939, 0.5236, 0.4814, 0.4834, 0.5180,\n",
       "         0.5181, 0.4766, 0.5091, 0.4962, 0.5077, 0.5022, 0.5197, 0.5195, 0.4930,\n",
       "         0.5153, 0.4766, 0.4872, 0.4905, 0.5108, 0.5228, 0.4956, 0.5067, 0.5158,\n",
       "         0.5079, 0.5097, 0.4782, 0.4837, 0.5169, 0.4908, 0.4994, 0.4941, 0.4898,\n",
       "         0.5060, 0.4883, 0.5071, 0.4775, 0.5082, 0.4802, 0.5051, 0.5229, 0.4816,\n",
       "         0.4797, 0.4804, 0.4954, 0.4830, 0.5205, 0.5052, 0.5177, 0.5116, 0.4889,\n",
       "         0.5096, 0.4935, 0.5115, 0.4868, 0.5040, 0.4976, 0.4763, 0.5089, 0.4854,\n",
       "         0.5237, 0.5102, 0.5069, 0.4979, 0.4775, 0.4928, 0.4969, 0.5096, 0.5176,\n",
       "         0.5063, 0.5125, 0.4995, 0.5175, 0.4999, 0.5163, 0.5216, 0.4910, 0.4851,\n",
       "         0.5212, 0.5216, 0.5228, 0.5061, 0.4980, 0.5250, 0.5083, 0.5182, 0.4830,\n",
       "         0.5159, 0.5244, 0.4958, 0.4990, 0.5164, 0.5077, 0.5229, 0.5094, 0.4866,\n",
       "         0.4794, 0.5217, 0.5126, 0.5085, 0.5038],\n",
       "        [0.5144, 0.5058, 0.4893, 0.5037, 0.4907, 0.5113, 0.4765, 0.5230, 0.5060,\n",
       "         0.4857, 0.5222, 0.4948, 0.4880, 0.5230, 0.4921, 0.5076, 0.4799, 0.4780,\n",
       "         0.5057, 0.4883, 0.4899, 0.4959, 0.5005, 0.4785, 0.5033, 0.4938, 0.5060,\n",
       "         0.4996, 0.5080, 0.4773, 0.4951, 0.5089, 0.4916, 0.4883, 0.5147, 0.5011,\n",
       "         0.5136, 0.5125, 0.4964, 0.4831, 0.5056, 0.4998, 0.4927, 0.5199, 0.5178,\n",
       "         0.4811, 0.4872, 0.4961, 0.4933, 0.4872, 0.4910, 0.5040, 0.5138, 0.4839,\n",
       "         0.5178, 0.5147, 0.4974, 0.5251, 0.5025, 0.4785, 0.4979, 0.5015, 0.5131,\n",
       "         0.4814, 0.4993, 0.4950, 0.5056, 0.4761, 0.4893, 0.5196, 0.5210, 0.4828,\n",
       "         0.5131, 0.4919, 0.5070, 0.4970, 0.4933, 0.5205, 0.4760, 0.5131, 0.5204,\n",
       "         0.4956, 0.4827, 0.5120, 0.5011, 0.5237, 0.4879, 0.4930, 0.5177, 0.4911,\n",
       "         0.4766, 0.4973, 0.4931, 0.4815, 0.5224, 0.4847, 0.4840, 0.5049, 0.5140,\n",
       "         0.5098, 0.5179, 0.5007, 0.4928, 0.4917, 0.4936, 0.5129, 0.5090, 0.4999,\n",
       "         0.5089, 0.4932, 0.5152, 0.5207, 0.4999, 0.5150, 0.5015, 0.5074, 0.5008,\n",
       "         0.5186, 0.4774, 0.4875, 0.5040, 0.4958, 0.4833, 0.5173, 0.5099, 0.5223,\n",
       "         0.4906, 0.5028, 0.4965, 0.5179, 0.5156, 0.4793, 0.5144, 0.5087, 0.4892,\n",
       "         0.4972, 0.5169, 0.5013, 0.5089, 0.5234, 0.5098, 0.5240, 0.5110, 0.4786,\n",
       "         0.4815, 0.4835, 0.5046, 0.5189, 0.4859, 0.5157, 0.4931, 0.4754, 0.4860,\n",
       "         0.4820, 0.4774, 0.5140, 0.4941, 0.4942, 0.4882, 0.4968, 0.4838, 0.5218,\n",
       "         0.5072, 0.4987, 0.5006, 0.5247, 0.5090, 0.4789, 0.5037, 0.4907, 0.4871,\n",
       "         0.4800, 0.5048, 0.4855, 0.4929, 0.5231, 0.4800, 0.5018, 0.4875, 0.4796,\n",
       "         0.5200, 0.4954, 0.4900, 0.5012, 0.5042, 0.4790, 0.4905, 0.5079, 0.5042,\n",
       "         0.4782, 0.4978, 0.5060, 0.5220, 0.5112, 0.4977, 0.5010, 0.5097, 0.5100,\n",
       "         0.4917, 0.5034, 0.4858, 0.4938, 0.4998, 0.4755, 0.5154, 0.5073, 0.4883,\n",
       "         0.4826, 0.5193, 0.5208, 0.5067, 0.5178, 0.5188, 0.4999, 0.4939, 0.4965,\n",
       "         0.5099, 0.5025, 0.5245, 0.5059, 0.5168, 0.5003, 0.5227, 0.4899, 0.5173,\n",
       "         0.4802, 0.5149, 0.4809, 0.4942, 0.5182, 0.4943, 0.4948, 0.4911, 0.5226,\n",
       "         0.5002, 0.5189, 0.5102, 0.5239, 0.4818, 0.5109, 0.4914, 0.5107, 0.5088,\n",
       "         0.4843, 0.4789, 0.5148, 0.4881, 0.4970, 0.5069, 0.5008, 0.4890, 0.4894,\n",
       "         0.4733, 0.4860, 0.5137, 0.4877, 0.4912, 0.5108, 0.5125, 0.5107, 0.5048,\n",
       "         0.4773, 0.4968, 0.4743, 0.5219, 0.4790, 0.4908, 0.4881, 0.4963, 0.5045,\n",
       "         0.5239, 0.5025, 0.4791, 0.4967, 0.4917, 0.5010, 0.5041, 0.5021, 0.5196,\n",
       "         0.4969, 0.4921, 0.5187, 0.5126, 0.4949, 0.5249, 0.4823, 0.4843, 0.5160,\n",
       "         0.5185, 0.4782, 0.5084, 0.4950, 0.5078, 0.5028, 0.5171, 0.5203, 0.4948,\n",
       "         0.5145, 0.4753, 0.4886, 0.4905, 0.5124, 0.5212, 0.4949, 0.5062, 0.5151,\n",
       "         0.5078, 0.5098, 0.4786, 0.4845, 0.5163, 0.4912, 0.4987, 0.4940, 0.4902,\n",
       "         0.5040, 0.4900, 0.5086, 0.4773, 0.5068, 0.4802, 0.5051, 0.5197, 0.4821,\n",
       "         0.4818, 0.4792, 0.4943, 0.4803, 0.5219, 0.5017, 0.5183, 0.5097, 0.4896,\n",
       "         0.5103, 0.4905, 0.5129, 0.4859, 0.5032, 0.4965, 0.4773, 0.5087, 0.4834,\n",
       "         0.5251, 0.5097, 0.5040, 0.4988, 0.4780, 0.4935, 0.4973, 0.5098, 0.5182,\n",
       "         0.5053, 0.5113, 0.5001, 0.5165, 0.4983, 0.5151, 0.5197, 0.4935, 0.4845,\n",
       "         0.5223, 0.5205, 0.5207, 0.5043, 0.4987, 0.5250, 0.5116, 0.5172, 0.4822,\n",
       "         0.5158, 0.5229, 0.4961, 0.5007, 0.5202, 0.5084, 0.5222, 0.5084, 0.4855,\n",
       "         0.4777, 0.5241, 0.5114, 0.5071, 0.5014]], device='cuda:0',\n",
       "       grad_fn=<ViewBackward>)"
      ]
     },
     "execution_count": 26,
     "metadata": {},
     "output_type": "execute_result"
    }
   ],
   "source": [
    "x, y = test_next(train_loader)\n",
    "\n",
    "model(x.to(device), verbose=True)"
   ]
  },
  {
   "cell_type": "code",
   "execution_count": 85,
   "metadata": {},
   "outputs": [],
   "source": [
    "# see https://pytorch.org/tutorials/beginner/nlp/word_embeddings_tutorial.html\n",
    "\n",
    "#device = torch.device(\"cuda:0\" if torch.cuda.is_available() else \"cpu\")\n",
    "device = 'cuda'\n",
    "batch_size = 200\n",
    "input_len = 200\n",
    "emb_t = torch.from_numpy(embedding_matrix)\n",
    "emb = nn.Embedding(embedding_matrix.shape[0], embedding_matrix.shape[1])\n",
    "emb.load_state_dict({'weight': emb_t})\n",
    "model = RNN(emb_weights=emb_t, batch_size=batch_size, input_len=input_len)\n",
    "model.load_weights()\n",
    "model.to(device)\n",
    "optimizer = optim.Adam(model.parameters(), lr=0.001, betas=(0.7, 0.99), weight_decay=1e-5)\n",
    "scheduler = optim.lr_scheduler.CosineAnnealingLR(optimizer, 100, eta_min=0, last_epoch=-1)\n",
    "#loss_function = nn.BCEWithLogitsLoss()\n",
    "loss_function = nn.BCELoss()\n",
    "# model_packed = RNNpacked(emb_weights=emb_t, batch_size=batch_size, input_len=input_len)\n",
    "# model_packed.load_weights()\n",
    "# model_packed.to(device)\n",
    "# optimizer = optim.Adam(model_packed.parameters(), lr=0.001)\n",
    "#torch.nn.utils.clip_grad_norm(mdl_sgd.parameters(),clip)\n",
    "\n",
    "def fit(model, loss_function, opitmizer, dataclass, batch_size, epochs, device, packed=False):\n",
    "    \n",
    "    start = time.time()\n",
    "    model.train()\n",
    "    \n",
    "    epoch_count = 0\n",
    "    losses = []\n",
    "    train_loader = DataLoader(dataclass, batch_size=batch_size)\n",
    "\n",
    "    def train_epoch():\n",
    "        i=0\n",
    "        n=len(dataclass)\n",
    "        for j, (sent, target) in enumerate(train_loader):\n",
    "            \n",
    "            optimizer.zero_grad()\n",
    "            \n",
    "            if isinstance(sent, list):\n",
    "                sent = torch.stack(sent, dim =1)\n",
    "                \n",
    "            if packed:\n",
    "                \n",
    "                #seqs, labels, lens_ = sort_lens(sent, target, lens)\n",
    "                sent, labels = sent.long().to(device), target.float().to(device)\n",
    "                log_probs = model(sent.to(device), lens.to(device))\n",
    "            else:\n",
    "                sent, labels = sent.long().to(device), target.float().to(device)\n",
    "                log_probs = model(sent)\n",
    "            \n",
    "            loss = loss_function(log_probs, labels.float().to(device))\n",
    "            \n",
    "            # gets graident\n",
    "            loss.backward()\n",
    "            \n",
    "            # clips high gradients\n",
    "            torch.nn.utils.clip_grad_norm_(model.parameters(), max_norm=0.3, norm_type=2)\n",
    "            \n",
    "            # updates with new gradient\n",
    "            optimizer.step()\n",
    "            \n",
    "            i += len(labels)\n",
    "            losses.append(loss.item())\n",
    "            if i % (batch_size*100) == 0:\n",
    "                print(f\"{i/n * 100:.2f} % of {n} rows completed in {j+1} cycles\")\n",
    "                print(f\"current loss at {np.mean(losses[-30:]):.4f}\")\n",
    "                scheduler.step()\n",
    "                print(f\"current learning rate at {optimizer.param_groups[0]['lr']:.6f}\")\n",
    "                \n",
    "    print('fitting model...')\n",
    "\n",
    "    for epoch in range(epochs):\n",
    "    \n",
    "        train_epoch()\n",
    "        \n",
    "        epoch_count += 1\n",
    "        print(f'epoch {epoch_count} complete')\n",
    "    print(f'fit complete {time.time()-start:.0f} seconds passed')\n",
    "    return losses\n"
   ]
  },
  {
   "cell_type": "code",
   "execution_count": 86,
   "metadata": {},
   "outputs": [
    {
     "name": "stdout",
     "output_type": "stream",
     "text": [
      "fitting model...\n",
      "5.44 % of 367511 rows completed in 100 cycles\n",
      "current loss at 0.0376\n",
      "current learning rate at 0.001000\n",
      "10.88 % of 367511 rows completed in 200 cycles\n",
      "current loss at 0.0355\n",
      "current learning rate at 0.001000\n",
      "16.33 % of 367511 rows completed in 300 cycles\n",
      "current loss at 0.0351\n",
      "current learning rate at 0.000999\n",
      "21.77 % of 367511 rows completed in 400 cycles\n",
      "current loss at 0.0346\n",
      "current learning rate at 0.000998\n",
      "27.21 % of 367511 rows completed in 500 cycles\n",
      "current loss at 0.0345\n",
      "current learning rate at 0.000996\n",
      "32.65 % of 367511 rows completed in 600 cycles\n",
      "current loss at 0.0342\n",
      "current learning rate at 0.000994\n",
      "38.09 % of 367511 rows completed in 700 cycles\n",
      "current loss at 0.0345\n",
      "current learning rate at 0.000991\n",
      "43.54 % of 367511 rows completed in 800 cycles\n",
      "current loss at 0.0345\n",
      "current learning rate at 0.000988\n",
      "48.98 % of 367511 rows completed in 900 cycles\n",
      "current loss at 0.0343\n",
      "current learning rate at 0.000984\n",
      "54.42 % of 367511 rows completed in 1000 cycles\n",
      "current loss at 0.0331\n",
      "current learning rate at 0.000980\n",
      "59.86 % of 367511 rows completed in 1100 cycles\n",
      "current loss at 0.0314\n",
      "current learning rate at 0.000976\n",
      "65.30 % of 367511 rows completed in 1200 cycles\n",
      "current loss at 0.0300\n",
      "current learning rate at 0.000970\n",
      "70.75 % of 367511 rows completed in 1300 cycles\n",
      "current loss at 0.0292\n",
      "current learning rate at 0.000965\n",
      "76.19 % of 367511 rows completed in 1400 cycles\n",
      "current loss at 0.0280\n",
      "current learning rate at 0.000959\n",
      "81.63 % of 367511 rows completed in 1500 cycles\n",
      "current loss at 0.0276\n",
      "current learning rate at 0.000952\n",
      "87.07 % of 367511 rows completed in 1600 cycles\n",
      "current loss at 0.0272\n",
      "current learning rate at 0.000946\n",
      "92.51 % of 367511 rows completed in 1700 cycles\n",
      "current loss at 0.0265\n",
      "current learning rate at 0.000938\n"
     ]
    },
    {
     "ename": "KeyboardInterrupt",
     "evalue": "",
     "output_type": "error",
     "traceback": [
      "\u001b[0;31m---------------------------------------------------------------------------\u001b[0m",
      "\u001b[0;31mKeyboardInterrupt\u001b[0m                         Traceback (most recent call last)",
      "\u001b[0;32m<timed exec>\u001b[0m in \u001b[0;36m<module>\u001b[0;34m\u001b[0m\n",
      "\u001b[0;32m<ipython-input-85-c32d5e2b7c83>\u001b[0m in \u001b[0;36mfit\u001b[0;34m(model, loss_function, opitmizer, dataclass, batch_size, epochs, device, packed)\u001b[0m\n\u001b[1;32m     72\u001b[0m     \u001b[0;32mfor\u001b[0m \u001b[0mepoch\u001b[0m \u001b[0;32min\u001b[0m \u001b[0mrange\u001b[0m\u001b[0;34m(\u001b[0m\u001b[0mepochs\u001b[0m\u001b[0;34m)\u001b[0m\u001b[0;34m:\u001b[0m\u001b[0;34m\u001b[0m\u001b[0;34m\u001b[0m\u001b[0m\n\u001b[1;32m     73\u001b[0m \u001b[0;34m\u001b[0m\u001b[0m\n\u001b[0;32m---> 74\u001b[0;31m         \u001b[0mtrain_epoch\u001b[0m\u001b[0;34m(\u001b[0m\u001b[0;34m)\u001b[0m\u001b[0;34m\u001b[0m\u001b[0;34m\u001b[0m\u001b[0m\n\u001b[0m\u001b[1;32m     75\u001b[0m \u001b[0;34m\u001b[0m\u001b[0m\n\u001b[1;32m     76\u001b[0m         \u001b[0mepoch_count\u001b[0m \u001b[0;34m+=\u001b[0m \u001b[0;36m1\u001b[0m\u001b[0;34m\u001b[0m\u001b[0;34m\u001b[0m\u001b[0m\n",
      "\u001b[0;32m<ipython-input-85-c32d5e2b7c83>\u001b[0m in \u001b[0;36mtrain_epoch\u001b[0;34m()\u001b[0m\n\u001b[1;32m     49\u001b[0m                 \u001b[0mlog_probs\u001b[0m \u001b[0;34m=\u001b[0m \u001b[0mmodel\u001b[0m\u001b[0;34m(\u001b[0m\u001b[0msent\u001b[0m\u001b[0;34m)\u001b[0m\u001b[0;34m\u001b[0m\u001b[0;34m\u001b[0m\u001b[0m\n\u001b[1;32m     50\u001b[0m \u001b[0;34m\u001b[0m\u001b[0m\n\u001b[0;32m---> 51\u001b[0;31m             \u001b[0mloss\u001b[0m \u001b[0;34m=\u001b[0m \u001b[0mloss_function\u001b[0m\u001b[0;34m(\u001b[0m\u001b[0mlog_probs\u001b[0m\u001b[0;34m,\u001b[0m \u001b[0mlabels\u001b[0m\u001b[0;34m.\u001b[0m\u001b[0mfloat\u001b[0m\u001b[0;34m(\u001b[0m\u001b[0;34m)\u001b[0m\u001b[0;34m.\u001b[0m\u001b[0mto\u001b[0m\u001b[0;34m(\u001b[0m\u001b[0mdevice\u001b[0m\u001b[0;34m)\u001b[0m\u001b[0;34m)\u001b[0m\u001b[0;34m\u001b[0m\u001b[0;34m\u001b[0m\u001b[0m\n\u001b[0m\u001b[1;32m     52\u001b[0m \u001b[0;34m\u001b[0m\u001b[0m\n\u001b[1;32m     53\u001b[0m             \u001b[0;31m# gets graident\u001b[0m\u001b[0;34m\u001b[0m\u001b[0;34m\u001b[0m\u001b[0;34m\u001b[0m\u001b[0m\n",
      "\u001b[0;32m~/miniconda3/envs/torchdl/lib/python3.7/site-packages/torch/nn/modules/module.py\u001b[0m in \u001b[0;36m__call__\u001b[0;34m(self, *input, **kwargs)\u001b[0m\n\u001b[1;32m    487\u001b[0m             \u001b[0mresult\u001b[0m \u001b[0;34m=\u001b[0m \u001b[0mself\u001b[0m\u001b[0;34m.\u001b[0m\u001b[0m_slow_forward\u001b[0m\u001b[0;34m(\u001b[0m\u001b[0;34m*\u001b[0m\u001b[0minput\u001b[0m\u001b[0;34m,\u001b[0m \u001b[0;34m**\u001b[0m\u001b[0mkwargs\u001b[0m\u001b[0;34m)\u001b[0m\u001b[0;34m\u001b[0m\u001b[0;34m\u001b[0m\u001b[0m\n\u001b[1;32m    488\u001b[0m         \u001b[0;32melse\u001b[0m\u001b[0;34m:\u001b[0m\u001b[0;34m\u001b[0m\u001b[0;34m\u001b[0m\u001b[0m\n\u001b[0;32m--> 489\u001b[0;31m             \u001b[0mresult\u001b[0m \u001b[0;34m=\u001b[0m \u001b[0mself\u001b[0m\u001b[0;34m.\u001b[0m\u001b[0mforward\u001b[0m\u001b[0;34m(\u001b[0m\u001b[0;34m*\u001b[0m\u001b[0minput\u001b[0m\u001b[0;34m,\u001b[0m \u001b[0;34m**\u001b[0m\u001b[0mkwargs\u001b[0m\u001b[0;34m)\u001b[0m\u001b[0;34m\u001b[0m\u001b[0;34m\u001b[0m\u001b[0m\n\u001b[0m\u001b[1;32m    490\u001b[0m         \u001b[0;32mfor\u001b[0m \u001b[0mhook\u001b[0m \u001b[0;32min\u001b[0m \u001b[0mself\u001b[0m\u001b[0;34m.\u001b[0m\u001b[0m_forward_hooks\u001b[0m\u001b[0;34m.\u001b[0m\u001b[0mvalues\u001b[0m\u001b[0;34m(\u001b[0m\u001b[0;34m)\u001b[0m\u001b[0;34m:\u001b[0m\u001b[0;34m\u001b[0m\u001b[0;34m\u001b[0m\u001b[0m\n\u001b[1;32m    491\u001b[0m             \u001b[0mhook_result\u001b[0m \u001b[0;34m=\u001b[0m \u001b[0mhook\u001b[0m\u001b[0;34m(\u001b[0m\u001b[0mself\u001b[0m\u001b[0;34m,\u001b[0m \u001b[0minput\u001b[0m\u001b[0;34m,\u001b[0m \u001b[0mresult\u001b[0m\u001b[0;34m)\u001b[0m\u001b[0;34m\u001b[0m\u001b[0;34m\u001b[0m\u001b[0m\n",
      "\u001b[0;32m~/miniconda3/envs/torchdl/lib/python3.7/site-packages/torch/nn/modules/loss.py\u001b[0m in \u001b[0;36mforward\u001b[0;34m(self, input, target)\u001b[0m\n\u001b[1;32m    502\u001b[0m     \u001b[0;34m@\u001b[0m\u001b[0mweak_script_method\u001b[0m\u001b[0;34m\u001b[0m\u001b[0;34m\u001b[0m\u001b[0m\n\u001b[1;32m    503\u001b[0m     \u001b[0;32mdef\u001b[0m \u001b[0mforward\u001b[0m\u001b[0;34m(\u001b[0m\u001b[0mself\u001b[0m\u001b[0;34m,\u001b[0m \u001b[0minput\u001b[0m\u001b[0;34m,\u001b[0m \u001b[0mtarget\u001b[0m\u001b[0;34m)\u001b[0m\u001b[0;34m:\u001b[0m\u001b[0;34m\u001b[0m\u001b[0;34m\u001b[0m\u001b[0m\n\u001b[0;32m--> 504\u001b[0;31m         \u001b[0;32mreturn\u001b[0m \u001b[0mF\u001b[0m\u001b[0;34m.\u001b[0m\u001b[0mbinary_cross_entropy\u001b[0m\u001b[0;34m(\u001b[0m\u001b[0minput\u001b[0m\u001b[0;34m,\u001b[0m \u001b[0mtarget\u001b[0m\u001b[0;34m,\u001b[0m \u001b[0mweight\u001b[0m\u001b[0;34m=\u001b[0m\u001b[0mself\u001b[0m\u001b[0;34m.\u001b[0m\u001b[0mweight\u001b[0m\u001b[0;34m,\u001b[0m \u001b[0mreduction\u001b[0m\u001b[0;34m=\u001b[0m\u001b[0mself\u001b[0m\u001b[0;34m.\u001b[0m\u001b[0mreduction\u001b[0m\u001b[0;34m)\u001b[0m\u001b[0;34m\u001b[0m\u001b[0;34m\u001b[0m\u001b[0m\n\u001b[0m\u001b[1;32m    505\u001b[0m \u001b[0;34m\u001b[0m\u001b[0m\n\u001b[1;32m    506\u001b[0m \u001b[0;34m\u001b[0m\u001b[0m\n",
      "\u001b[0;32m~/miniconda3/envs/torchdl/lib/python3.7/site-packages/torch/nn/functional.py\u001b[0m in \u001b[0;36mbinary_cross_entropy\u001b[0;34m(input, target, weight, size_average, reduce, reduction)\u001b[0m\n\u001b[1;32m   2025\u001b[0m \u001b[0;34m\u001b[0m\u001b[0m\n\u001b[1;32m   2026\u001b[0m     return torch._C._nn.binary_cross_entropy(\n\u001b[0;32m-> 2027\u001b[0;31m         input, target, weight, reduction_enum)\n\u001b[0m\u001b[1;32m   2028\u001b[0m \u001b[0;34m\u001b[0m\u001b[0m\n\u001b[1;32m   2029\u001b[0m \u001b[0;34m\u001b[0m\u001b[0m\n",
      "\u001b[0;31mKeyboardInterrupt\u001b[0m: "
     ]
    }
   ],
   "source": [
    "%%time\n",
    "# import pdb; pdb.set_trace()\n",
    "losses = fit(model, loss_function, optimizer, \n",
    "                    traincls, batch_size, 4, \n",
    "                    device=device, packed=False)"
   ]
  },
  {
   "cell_type": "code",
   "execution_count": 80,
   "metadata": {},
   "outputs": [
    {
     "name": "stdout",
     "output_type": "stream",
     "text": [
      "0.00019354647317351172\n"
     ]
    }
   ],
   "source": [
    "for item in optimizer.param_groups:\n",
    "    print(item['lr'])"
   ]
  },
  {
   "cell_type": "code",
   "execution_count": 79,
   "metadata": {},
   "outputs": [
    {
     "data": {
      "image/png": "[encoded data removed]",
      "text/plain": [
       "<Figure size 1080x720 with 1 Axes>"
      ]
     },
     "metadata": {
      "needs_background": "light"
     },
     "output_type": "display_data"
    }
   ],
   "source": [
    "from matplotlib import pyplot as plt\n",
    "plt.figure(figsize = (15,10))\n",
    "_ = plt.plot(losses[4000:])\n"
   ]
  },
  {
   "cell_type": "code",
   "execution_count": 35,
   "metadata": {},
   "outputs": [
    {
     "name": "stdout",
     "output_type": "stream",
     "text": [
      "tensor(0.0213)\n"
     ]
    }
   ],
   "source": [
    "valcls = CorpusData(data=val, labels=val_y)\n",
    "#val_loader = DataLoader(valcls, batch_size=250)\n",
    "\n",
    "def eval_model(model, valcls, loss_function, batch_size):\n",
    "    \n",
    "    val_loader = DataLoader(valcls, batch_size=batch_size)\n",
    "    preds = []; targets = []\n",
    "    with torch.no_grad():\n",
    "\n",
    "        model.eval()\n",
    "        for sent, target in val_loader:\n",
    "            #seqs, labels, lens_ = sort_lens(sent, target, lens)\n",
    "            #seqs = seqs.long().to(device)\n",
    "\n",
    "            res = model(sent.cuda())\n",
    "            \n",
    "            preds.append(res), targets.append(target)\n",
    "    \n",
    "    res = torch.cat(preds).cpu()\n",
    "    tru = torch.cat(targets).cpu()\n",
    "    \n",
    "    print(loss_function(res, tru.float()))    \n",
    "    \n",
    "    return res.numpy(), tru.numpy()\n",
    "\n",
    "preds, tru = eval_model(model, valcls, loss_function, 500)"
   ]
  },
  {
   "cell_type": "code",
   "execution_count": 67,
   "metadata": {},
   "outputs": [],
   "source": [
    "from scipy import stats"
   ]
  },
  {
   "cell_type": "code",
   "execution_count": 63,
   "metadata": {},
   "outputs": [
    {
     "name": "stdout",
     "output_type": "stream",
     "text": [
      "0.0\n",
      "-0.5\n",
      "0.0\n",
      "-0.2\n",
      "-0.6\n",
      "-0.6\n",
      "0.0\n",
      "1.0\n",
      "-0.2\n",
      "-0.5\n"
     ]
    }
   ],
   "source": [
    "cutoff = 0.50\n",
    "all = []\n",
    "for i in range(10):\n",
    "    res = []\n",
    "    for j in range(len(preds[10000])):\n",
    "        if preds[i][j]>cutoff and tru[i][j]==1:\n",
    "            res.append(1)\n",
    "            \n",
    "        elif tru[i][j] == 0:\n",
    "            res.append(0)\n",
    "        else:\n",
    "            res.append(-1)\n",
    "        \n",
    "    print(np.array(res).sum()/tru[i].numpy().sum())\n",
    "    "
   ]
  },
  {
   "cell_type": "code",
   "execution_count": 65,
   "metadata": {},
   "outputs": [
    {
     "data": {
      "text/plain": [
       "(tensor([0., 0., 0., 1., 0., 0., 0., 0., 0., 0., 0., 0., 1., 0., 0., 0., 0., 0.,\n",
       "         0., 0., 0., 0., 0., 0., 0., 0., 0., 0., 0., 0., 0., 0., 0., 0., 0., 0.,\n",
       "         0., 0., 0., 0., 0., 0., 0., 0., 0., 0., 0., 0., 0., 0., 0., 0., 0., 0.,\n",
       "         0., 0., 0., 0., 0., 0., 0., 0., 0., 0., 0., 0., 0., 0., 0., 0., 0., 0.,\n",
       "         0., 0., 0., 0., 0., 0., 0., 0., 0., 0., 0., 0., 0., 0., 0., 0., 0., 0.,\n",
       "         0., 0., 0., 0., 0., 0., 0., 0., 0., 0., 0., 0., 0., 0., 0., 0., 0., 0.,\n",
       "         0., 0., 0., 0., 0., 0., 0., 0., 0., 0., 0., 0., 0., 0., 0., 0., 0., 0.,\n",
       "         0., 0., 0., 0., 0., 0., 0., 0., 0., 0., 0., 0., 0., 0., 0., 0., 0., 0.,\n",
       "         0., 0., 0., 0., 0., 0., 0., 0., 0., 0., 0., 0., 0., 0., 0., 0., 0., 0.,\n",
       "         0., 0., 0., 0., 0., 0., 0., 0., 0., 0., 0., 0., 0., 0., 0., 0., 0., 0.,\n",
       "         0., 0., 0., 0., 0., 0., 0., 0., 0., 0., 0., 0., 0., 0., 0., 0., 0., 0.,\n",
       "         0., 0., 0., 0., 0., 0., 0., 0., 0., 0., 0., 0., 0., 0., 0., 0., 0., 0.,\n",
       "         0., 0., 0., 0., 0., 0., 0., 0., 0., 0., 0., 0., 0., 0., 0., 0., 0., 0.,\n",
       "         0., 0., 0., 0., 0., 0., 0., 0., 0., 0., 0., 0., 0., 0., 0., 0., 0., 0.,\n",
       "         0., 0., 0., 0., 0., 0., 0., 0., 0., 0., 0., 0., 0., 0., 0., 0., 0., 0.,\n",
       "         0., 0., 0., 0., 0., 0., 0., 0., 0., 0., 0., 0., 0., 0., 0., 0., 0., 0.,\n",
       "         0., 0., 0., 0., 0., 0., 0., 0., 0., 0., 0., 0., 0., 0., 0., 0., 0., 0.,\n",
       "         0., 0., 0., 0., 0., 0., 0., 0., 0., 0., 0., 0., 0., 0., 0., 0., 0., 0.,\n",
       "         0., 0., 0., 0., 0., 0., 0., 0., 0., 0., 0., 0., 0., 0., 0., 0., 0., 0.,\n",
       "         0., 0., 0., 0., 0., 0., 0., 0., 0., 0., 0., 0., 0., 0., 0., 0., 0., 0.,\n",
       "         0., 0., 0., 0., 0., 0., 0., 0., 0., 0., 0., 0., 0., 0., 0., 0., 0., 0.,\n",
       "         0., 0., 0., 0., 0.], dtype=torch.float64),\n",
       " tensor([0., 0., 0., 1., 0., 0., 0., 0., 0., 0., 0., 0., 0., 0., 0., 0., 0., 0.,\n",
       "         0., 0., 0., 0., 0., 0., 0., 0., 0., 0., 0., 0., 0., 0., 0., 0., 0., 0.,\n",
       "         0., 0., 0., 0., 0., 0., 0., 0., 0., 0., 0., 0., 0., 0., 0., 0., 0., 0.,\n",
       "         0., 0., 0., 0., 0., 0., 0., 0., 0., 0., 0., 0., 0., 0., 0., 0., 0., 0.,\n",
       "         0., 0., 0., 0., 0., 0., 0., 0., 0., 0., 0., 0., 0., 0., 0., 0., 0., 0.,\n",
       "         0., 0., 0., 0., 0., 0., 0., 0., 0., 0., 0., 0., 0., 0., 0., 0., 0., 0.,\n",
       "         0., 0., 0., 0., 0., 0., 0., 0., 0., 0., 0., 0., 0., 0., 0., 0., 0., 0.,\n",
       "         0., 0., 0., 0., 0., 0., 0., 0., 0., 0., 0., 0., 0., 0., 0., 0., 0., 0.,\n",
       "         0., 0., 0., 0., 0., 0., 0., 0., 0., 0., 0., 0., 0., 0., 0., 0., 0., 0.,\n",
       "         0., 0., 0., 0., 0., 0., 0., 0., 0., 0., 0., 0., 0., 0., 0., 0., 0., 0.,\n",
       "         0., 0., 0., 0., 0., 0., 0., 0., 0., 0., 0., 0., 0., 0., 0., 0., 0., 0.,\n",
       "         0., 0., 0., 0., 0., 0., 0., 0., 0., 0., 0., 0., 0., 0., 0., 0., 0., 0.,\n",
       "         0., 0., 0., 0., 0., 0., 0., 0., 0., 0., 0., 0., 0., 0., 0., 0., 0., 0.,\n",
       "         0., 0., 0., 0., 0., 0., 0., 0., 0., 0., 0., 0., 0., 0., 0., 0., 0., 0.,\n",
       "         0., 0., 0., 0., 0., 0., 0., 0., 0., 0., 0., 0., 0., 0., 0., 0., 0., 0.,\n",
       "         0., 0., 0., 0., 0., 0., 0., 0., 0., 0., 0., 0., 0., 0., 0., 0., 0., 0.,\n",
       "         0., 0., 0., 0., 0., 0., 0., 0., 0., 0., 0., 0., 0., 0., 0., 0., 0., 0.,\n",
       "         0., 0., 0., 0., 0., 0., 0., 0., 0., 0., 0., 0., 0., 0., 0., 0., 0., 0.,\n",
       "         0., 0., 0., 0., 0., 0., 0., 0., 0., 0., 0., 0., 0., 0., 0., 0., 0., 0.,\n",
       "         0., 0., 0., 0., 0., 0., 0., 0., 0., 0., 0., 0., 0., 0., 0., 0., 0., 0.,\n",
       "         0., 0., 0., 0., 0., 0., 0., 0., 0., 0., 0., 0., 0., 0., 0., 0., 0., 0.,\n",
       "         0., 0., 0., 0., 0.]))"
      ]
     },
     "execution_count": 65,
     "metadata": {},
     "output_type": "execute_result"
    }
   ],
   "source": [
    "tru[10], np.round(preds[10])"
   ]
  },
  {
   "cell_type": "code",
   "execution_count": 54,
   "metadata": {},
   "outputs": [
    {
     "data": {
      "text/plain": [
       "tensor(0.2500, dtype=torch.float64)"
      ]
     },
     "execution_count": 54,
     "metadata": {},
     "output_type": "execute_result"
    }
   ],
   "source": []
  },
  {
   "cell_type": "code",
   "execution_count": 38,
   "metadata": {},
   "outputs": [],
   "source": [
    "def classify(true, preds, cutoff):\n",
    "    #preds = 1/(1+np.exp(-preds))\n",
    "    \n",
    "    res = np.greater(preds, np.array(cutoff))\n",
    "    recall = np.sum(res*true) / np.sum(true)\n",
    "    precision = np.sum(res*true) / np.sum(res)\n",
    "    return {'accuracy':round(np.mean(np.equal(true, res)), 4), 'precision': round(precision,4),\\\n",
    "            'recall': round(recall, 4), 'combined':round(precision*recall,4)}\n",
    "\n",
    "def get_reviewtext(row): \n",
    "    return ' '.join([dict_yelp[item-1] for item in traincls[row][0] if (item < 12589) and (item != 0)])"
   ]
  },
  {
   "cell_type": "code",
   "execution_count": 39,
   "metadata": {},
   "outputs": [
    {
     "data": {
      "text/plain": [
       "'really great and beer any place with be everyone by but the suppose approach near be foam'"
      ]
     },
     "execution_count": 39,
     "metadata": {},
     "output_type": "execute_result"
    }
   ],
   "source": [
    "get_reviewtext(int(len(traincls)*.5))"
   ]
  },
  {
   "cell_type": "code",
   "execution_count": 127,
   "metadata": {},
   "outputs": [],
   "source": [
    "from sklearn.metrics import precision_score, recall_score"
   ]
  },
  {
   "cell_type": "code",
   "execution_count": 146,
   "metadata": {},
   "outputs": [],
   "source": [
    "yhat = 1/(1+np.exp(-preds.numpy())) > .5 "
   ]
  },
  {
   "cell_type": "code",
   "execution_count": 151,
   "metadata": {},
   "outputs": [
    {
     "name": "stdout",
     "output_type": "stream",
     "text": [
      "cutoff of 0.05 :  {'accuracy': 0.8499, 'precision': 0.8346, 'recall': 0.9983, 'combined': 0.8332}\n",
      "cutoff of 0.1 :  {'accuracy': 0.8756, 'precision': 0.8605, 'recall': 0.996, 'combined': 0.8571}\n",
      "cutoff of 0.15 :  {'accuracy': 0.8914, 'precision': 0.878, 'recall': 0.9937, 'combined': 0.8725}\n",
      "cutoff of 0.2 :  {'accuracy': 0.9026, 'precision': 0.8914, 'recall': 0.9912, 'combined': 0.8836}\n",
      "cutoff of 0.25 :  {'accuracy': 0.9108, 'precision': 0.9025, 'recall': 0.9881, 'combined': 0.8918}\n",
      "cutoff of 0.3 :  {'accuracy': 0.9169, 'precision': 0.9119, 'recall': 0.9846, 'combined': 0.8979}\n",
      "cutoff of 0.35 :  {'accuracy': 0.9218, 'precision': 0.9203, 'recall': 0.9809, 'combined': 0.9027}\n",
      "cutoff of 0.4 :  {'accuracy': 0.9255, 'precision': 0.9279, 'recall': 0.9768, 'combined': 0.9064}\n",
      "cutoff of 0.45 :  {'accuracy': 0.9281, 'precision': 0.9352, 'recall': 0.9717, 'combined': 0.9087}\n",
      "cutoff of 0.5 :  {'accuracy': 0.93, 'precision': 0.942, 'recall': 0.9663, 'combined': 0.9103}\n",
      "cutoff of 0.55 :  {'accuracy': 0.9305, 'precision': 0.9482, 'recall': 0.9601, 'combined': 0.9103}\n",
      "cutoff of 0.6 :  {'accuracy': 0.9297, 'precision': 0.9543, 'recall': 0.9521, 'combined': 0.9087}\n",
      "cutoff of 0.65 :  {'accuracy': 0.9274, 'precision': 0.9598, 'recall': 0.943, 'combined': 0.9051}\n",
      "cutoff of 0.7 :  {'accuracy': 0.9226, 'precision': 0.9652, 'recall': 0.9307, 'combined': 0.8983}\n",
      "cutoff of 0.75 :  {'accuracy': 0.9157, 'precision': 0.9708, 'recall': 0.9155, 'combined': 0.8887}\n",
      "cutoff of 0.8 :  {'accuracy': 0.9051, 'precision': 0.9767, 'recall': 0.8951, 'combined': 0.8743}\n",
      "cutoff of 0.85 :  {'accuracy': 0.8866, 'precision': 0.9824, 'recall': 0.8647, 'combined': 0.8495}\n",
      "cutoff of 0.9 :  {'accuracy': 0.8553, 'precision': 0.9881, 'recall': 0.8175, 'combined': 0.8077}\n",
      "cutoff of 0.95 :  {'accuracy': 0.7874, 'precision': 0.9933, 'recall': 0.7223, 'combined': 0.7175}\n"
     ]
    }
   ],
   "source": [
    "for i in range(19):\n",
    "    cutoff = (1+i) * .05\n",
    "    #yhat=1/(1+np.exp(-preds.numpy())) > cutoff\n",
    "    print(f'cutoff of {round(cutoff, 2)} :  {classify(tru.numpy(), 1/(1+np.exp(-preds.numpy())), cutoff)}')\n",
    "    #print(f'{precision_score(tru.float().numpy(), yhat), recall_score(tru.float().numpy(), yhat)}')"
   ]
  },
  {
   "cell_type": "code",
   "execution_count": null,
   "metadata": {},
   "outputs": [],
   "source": [
    "def evaluate(val, val_y, regression = False):\n",
    "    \n",
    "        \n",
    "    preds = model.predict(val)\n",
    "    #idx = np.random.randint(0, len(val_y), 5000)\n",
    "    pred_err = np.subtract(val_y.astype('float32'), preds.reshape(-1))\n",
    "    sns.distplot(pred_err)\n",
    "    plt.show()\n",
    "   \n",
    "    if regression:\n",
    "        rmse = np.sqrt(np.mean(pred_err**2))\n",
    "        print('rmse : %.4f' % rmse)\n",
    "    else:\n",
    "        cond_error = round((abs(pred_err) >= 0.5).sum()/len(pred_err), 4)\n",
    "        binary_cross_entropy = np.mean(\n",
    "                                        val_y * np.log(preds.reshape(-1)) + \\\n",
    "                                       (1-val_y) * np.log(1-preds.reshape(-1))\n",
    "        ) \n",
    "    \n",
    "        print('prob error is greater than 0.5 is %.4f' % cond_error)\n",
    "        print('binary cross entropy is %.4f' % binary_cross_entropy)\n",
    "    "
   ]
  }
 ],
 "metadata": {
  "kernelspec": {
   "display_name": "Python 3",
   "language": "python",
   "name": "python3"
  },
  "language_info": {
   "codemirror_mode": {
    "name": "ipython",
    "version": 3
   },
   "file_extension": ".py",
   "mimetype": "text/x-python",
   "name": "python",
   "nbconvert_exporter": "python",
   "pygments_lexer": "ipython3",
   "version": "3.7.2"
  }
 },
 "nbformat": 4,
 "nbformat_minor": 2
}
