{
 "cells": [
  {
   "cell_type": "code",
   "execution_count": 1,
   "metadata": {
    "collapsed": true
   },
   "outputs": [],
   "source": [
    "import pandas as pd\n",
    "import numpy as np\n",
    "import spacy\n",
    "import gensim\n",
    "import os\n",
    "import codecs\n",
    "import json\n",
    "import re\n",
    "from bs4 import BeautifulSoup"
   ]
  },
  {
   "cell_type": "code",
   "execution_count": 68,
   "metadata": {
    "collapsed": true
   },
   "outputs": [],
   "source": [
    "restaurant_ids1 = []\n",
    "\n",
    "# open the businesses file\n",
    "with open('./data/yelp_academic_dataset_business.json', encoding='utf_8') as f:\n",
    "    \n",
    "    # iterate through each line (json record) in the file\n",
    "    for line in f:\n",
    "        \n",
    "        # convert the json record to a Python dict\n",
    "        business = json.loads(line)\n",
    "        \n",
    "        # if this business is not a restaurant, skip to the next one\n",
    "        if business[\"categories\"] is not None and \"Restaurants\" in business[\"categories\"]:\n",
    "            # add the restaurant business id to our restaurant_ids set\n",
    "            restaurant_ids1.append((business['business_id'], business['city'], business['state'], business['categories']))\n",
    "        else:\n",
    "            continue\n"
   ]
  },
  {
   "cell_type": "code",
   "execution_count": 69,
   "metadata": {},
   "outputs": [
    {
     "data": {
      "text/plain": [
       "{'address': '4550 Cactus Road, Suite 318',\n",
       " 'attributes': ['BikeParking: True',\n",
       "  'BusinessAcceptsCreditCards: True',\n",
       "  \"BusinessParking: {'garage': False, 'street': False, 'validated': False, 'lot': True, 'valet': False}\",\n",
       "  'RestaurantsPriceRange2: 3'],\n",
       " 'business_id': 'a048R60CLFeObJ3mhHdPRg',\n",
       " 'categories': ['Shopping', 'Mobile Phones'],\n",
       " 'city': 'Phoenix',\n",
       " 'hours': ['Monday 10:0-21:0',\n",
       "  'Tuesday 10:0-21:0',\n",
       "  'Wednesday 10:0-21:0',\n",
       "  'Thursday 10:0-21:0',\n",
       "  'Friday 10:0-21:0',\n",
       "  'Saturday 10:0-21:0',\n",
       "  'Sunday 11:0-18:0'],\n",
       " 'is_open': 1,\n",
       " 'latitude': 33.6021726,\n",
       " 'longitude': -111.9836359,\n",
       " 'name': 'T-Mobile',\n",
       " 'neighborhood': '',\n",
       " 'postal_code': '85032',\n",
       " 'review_count': 5,\n",
       " 'stars': 3.0,\n",
       " 'state': 'AZ',\n",
       " 'type': 'business'}"
      ]
     },
     "execution_count": 69,
     "metadata": {},
     "output_type": "execute_result"
    }
   ],
   "source": [
    "business"
   ]
  },
  {
   "cell_type": "code",
   "execution_count": 70,
   "metadata": {},
   "outputs": [
    {
     "data": {
      "text/plain": [
       "[('EDqCEAGXVGCH4FJXgqtjqg',\n",
       "  'Toronto',\n",
       "  'ON',\n",
       "  ['Restaurants', 'Pizza', 'Chicken Wings', 'Italian']),\n",
       " ('GDnbt3isfhd57T1QqU6flg',\n",
       "  'Scottsdale',\n",
       "  'AZ',\n",
       "  ['Tex-Mex', 'Mexican', 'Fast Food', 'Restaurants']),\n",
       " ('42romV8altAeuZuP2OC1gw',\n",
       "  'Henderson',\n",
       "  'NV',\n",
       "  ['Hawaiian', 'Restaurants', 'Barbeque']),\n",
       " ('DNyYOxVAfu0oUcPNL1ljCQ', 'Boucherville', 'QC', ['Restaurants', 'Cafes']),\n",
       " ('a1Ba6XeIOP48e64YFD0dMw',\n",
       "  'Montréal',\n",
       "  'QC',\n",
       "  ['Sandwiches', 'Breakfast & Brunch', 'Salad', 'Restaurants']),\n",
       " ('826djy6K_9Fp0ptqJ2_Yag',\n",
       "  'Toronto',\n",
       "  'ON',\n",
       "  ['Fast Food', 'Mexican', 'Restaurants']),\n",
       " ('Mi5uhdFB9OJteXPd0_IKfw',\n",
       "  'Glendale',\n",
       "  'AZ',\n",
       "  ['Restaurants', 'Italian', 'Seafood']),\n",
       " ('Uxh0fXFH_QQBivRnIBpdiw',\n",
       "  'Amherst',\n",
       "  'OH',\n",
       "  ['Restaurants', 'Mexican', 'American (Traditional)']),\n",
       " ('YPavuOh2XsnRbLfl0DH2lQ',\n",
       "  'Phoenix',\n",
       "  'AZ',\n",
       "  ['Restaurants', 'Waffles', 'Southern', 'Soul Food']),\n",
       " ('saWZO6hB4B8P-mIzS1--Xw',\n",
       "  'Las Vegas',\n",
       "  'NV',\n",
       "  ['Persian/Iranian',\n",
       "   'Restaurants',\n",
       "   'Ethnic Food',\n",
       "   'Food',\n",
       "   'Greek',\n",
       "   'Specialty Food'])]"
      ]
     },
     "execution_count": 70,
     "metadata": {},
     "output_type": "execute_result"
    }
   ],
   "source": [
    "restaurant_ids1[0:10]"
   ]
  },
  {
   "cell_type": "code",
   "execution_count": 4,
   "metadata": {
    "collapsed": true
   },
   "outputs": [],
   "source": [
    "review_json_filepath = os.path.join('./data/',\n",
    "                                    'yelp_academic_dataset_review.json')\n",
    "\n",
    "rest_sample = np.random.choice(restaurant_ids1, 1000)\n",
    "\n",
    "rests = []\n",
    "with codecs.open(review_json_filepath, encoding='utf_8') as f:\n",
    "    for line in f:\n",
    "        review = json.loads(line)\n",
    "        if review['business_id'] in rest_sample:\n",
    "            rests.append(review)\n",
    "        else:\n",
    "            continue\n",
    "            "
   ]
  },
  {
   "cell_type": "code",
   "execution_count": 5,
   "metadata": {},
   "outputs": [
    {
     "name": "stdout",
     "output_type": "stream",
     "text": [
      "48,485 restaurants in the dataset.\n"
     ]
    }
   ],
   "source": [
    "\n",
    "# print the number of unique restaurant ids in the dataset\n",
    "print('{:,}'.format(len(restaurant_ids1)), u'restaurants in the dataset.')"
   ]
  },
  {
   "cell_type": "markdown",
   "metadata": {},
   "source": [
    "#checking overlap in two methods\n",
    "missing = []\n",
    "with open('./data/yelp_academic_dataset_business.json', encoding='utf_8') as f:\n",
    "    \n",
    "    # iterate through each line (json record) in the file\n",
    "    for line in f:\n",
    "        business = json.loads(line)\n",
    "        if business['business_id'] in diff:\n",
    "            missing.append(business)\n",
    "            \n",
    "df = pd.DataFrame(missing)\n",
    "            \n",
    "        \n",
    "    \n"
   ]
  },
  {
   "cell_type": "code",
   "execution_count": 6,
   "metadata": {
    "collapsed": true
   },
   "outputs": [],
   "source": [
    "reviews = pd.DataFrame(rests)"
   ]
  },
  {
   "cell_type": "code",
   "execution_count": 7,
   "metadata": {},
   "outputs": [
    {
     "data": {
      "text/html": [
       "<div>\n",
       "<style>\n",
       "    .dataframe thead tr:only-child th {\n",
       "        text-align: right;\n",
       "    }\n",
       "\n",
       "    .dataframe thead th {\n",
       "        text-align: left;\n",
       "    }\n",
       "\n",
       "    .dataframe tbody tr th {\n",
       "        vertical-align: top;\n",
       "    }\n",
       "</style>\n",
       "<table border=\"1\" class=\"dataframe\">\n",
       "  <thead>\n",
       "    <tr style=\"text-align: right;\">\n",
       "      <th></th>\n",
       "      <th>business_id</th>\n",
       "      <th>cool</th>\n",
       "      <th>date</th>\n",
       "      <th>funny</th>\n",
       "      <th>review_id</th>\n",
       "      <th>stars</th>\n",
       "      <th>text</th>\n",
       "      <th>type</th>\n",
       "      <th>useful</th>\n",
       "      <th>user_id</th>\n",
       "    </tr>\n",
       "  </thead>\n",
       "  <tbody>\n",
       "    <tr>\n",
       "      <th>0</th>\n",
       "      <td>6BSl6vLEyZvro_YIqorxEQ</td>\n",
       "      <td>0</td>\n",
       "      <td>2014-09-12</td>\n",
       "      <td>0</td>\n",
       "      <td>44Is9Ey7bTOgfMFuTlJd7A</td>\n",
       "      <td>4</td>\n",
       "      <td>This is an awesome plan for a fun night at the...</td>\n",
       "      <td>review</td>\n",
       "      <td>0</td>\n",
       "      <td>6dK2EHJuDfKOWpvUX7-G-Q</td>\n",
       "    </tr>\n",
       "    <tr>\n",
       "      <th>1</th>\n",
       "      <td>AsmN2ZqAlO9gl3EQpwrquQ</td>\n",
       "      <td>0</td>\n",
       "      <td>2011-11-18</td>\n",
       "      <td>0</td>\n",
       "      <td>EkPw5n_6Ma8pk-CAAiE8-A</td>\n",
       "      <td>5</td>\n",
       "      <td>Schwäbische Küche mit saisonalen Spezialitäten...</td>\n",
       "      <td>review</td>\n",
       "      <td>0</td>\n",
       "      <td>Als6BovT3ezHPQVVqibWCg</td>\n",
       "    </tr>\n",
       "    <tr>\n",
       "      <th>2</th>\n",
       "      <td>AsmN2ZqAlO9gl3EQpwrquQ</td>\n",
       "      <td>0</td>\n",
       "      <td>2011-01-29</td>\n",
       "      <td>0</td>\n",
       "      <td>gVYFZ5toWhHQRMSMd-fW9w</td>\n",
       "      <td>4</td>\n",
       "      <td>Gute Gaststätte mit gutbürgerlichen Gerichten....</td>\n",
       "      <td>review</td>\n",
       "      <td>0</td>\n",
       "      <td>ODCjj_xgQnC7j-sTGq3UoA</td>\n",
       "    </tr>\n",
       "    <tr>\n",
       "      <th>3</th>\n",
       "      <td>AsmN2ZqAlO9gl3EQpwrquQ</td>\n",
       "      <td>0</td>\n",
       "      <td>2011-08-27</td>\n",
       "      <td>0</td>\n",
       "      <td>AaVy74wTrW8PUKbTGMKhpg</td>\n",
       "      <td>1</td>\n",
       "      <td>Wir haben uns kürzlich auf Fisch während der F...</td>\n",
       "      <td>review</td>\n",
       "      <td>0</td>\n",
       "      <td>-CbLvRrBKA3530I4KnpT2w</td>\n",
       "    </tr>\n",
       "    <tr>\n",
       "      <th>4</th>\n",
       "      <td>H8Ydr14l2ZzUAuxJJR13hw</td>\n",
       "      <td>0</td>\n",
       "      <td>2016-02-01</td>\n",
       "      <td>0</td>\n",
       "      <td>hlVIlXyGwtVXVcn570wEUQ</td>\n",
       "      <td>5</td>\n",
       "      <td>Great family owned breakfast place for the qua...</td>\n",
       "      <td>review</td>\n",
       "      <td>0</td>\n",
       "      <td>pf9mCNF9M38GVQO4cml7bQ</td>\n",
       "    </tr>\n",
       "    <tr>\n",
       "      <th>5</th>\n",
       "      <td>H8Ydr14l2ZzUAuxJJR13hw</td>\n",
       "      <td>0</td>\n",
       "      <td>2016-08-05</td>\n",
       "      <td>0</td>\n",
       "      <td>Mw4knbmRnmL3zJJ90ptIuQ</td>\n",
       "      <td>3</td>\n",
       "      <td>The only reason I gave it a 3 was because the ...</td>\n",
       "      <td>review</td>\n",
       "      <td>0</td>\n",
       "      <td>IzLj5VJhh63X5X89_ZqZdw</td>\n",
       "    </tr>\n",
       "  </tbody>\n",
       "</table>\n",
       "</div>"
      ],
      "text/plain": [
       "              business_id  cool        date  funny               review_id  \\\n",
       "0  6BSl6vLEyZvro_YIqorxEQ     0  2014-09-12      0  44Is9Ey7bTOgfMFuTlJd7A   \n",
       "1  AsmN2ZqAlO9gl3EQpwrquQ     0  2011-11-18      0  EkPw5n_6Ma8pk-CAAiE8-A   \n",
       "2  AsmN2ZqAlO9gl3EQpwrquQ     0  2011-01-29      0  gVYFZ5toWhHQRMSMd-fW9w   \n",
       "3  AsmN2ZqAlO9gl3EQpwrquQ     0  2011-08-27      0  AaVy74wTrW8PUKbTGMKhpg   \n",
       "4  H8Ydr14l2ZzUAuxJJR13hw     0  2016-02-01      0  hlVIlXyGwtVXVcn570wEUQ   \n",
       "5  H8Ydr14l2ZzUAuxJJR13hw     0  2016-08-05      0  Mw4knbmRnmL3zJJ90ptIuQ   \n",
       "\n",
       "   stars                                               text    type  useful  \\\n",
       "0      4  This is an awesome plan for a fun night at the...  review       0   \n",
       "1      5  Schwäbische Küche mit saisonalen Spezialitäten...  review       0   \n",
       "2      4  Gute Gaststätte mit gutbürgerlichen Gerichten....  review       0   \n",
       "3      1  Wir haben uns kürzlich auf Fisch während der F...  review       0   \n",
       "4      5  Great family owned breakfast place for the qua...  review       0   \n",
       "5      3  The only reason I gave it a 3 was because the ...  review       0   \n",
       "\n",
       "                  user_id  \n",
       "0  6dK2EHJuDfKOWpvUX7-G-Q  \n",
       "1  Als6BovT3ezHPQVVqibWCg  \n",
       "2  ODCjj_xgQnC7j-sTGq3UoA  \n",
       "3  -CbLvRrBKA3530I4KnpT2w  \n",
       "4  pf9mCNF9M38GVQO4cml7bQ  \n",
       "5  IzLj5VJhh63X5X89_ZqZdw  "
      ]
     },
     "execution_count": 7,
     "metadata": {},
     "output_type": "execute_result"
    }
   ],
   "source": [
    "reviews.head(6)"
   ]
  },
  {
   "cell_type": "code",
   "execution_count": 8,
   "metadata": {},
   "outputs": [
    {
     "data": {
      "text/plain": [
       "(53425, 10)"
      ]
     },
     "execution_count": 8,
     "metadata": {},
     "output_type": "execute_result"
    }
   ],
   "source": [
    "reviews.shape"
   ]
  },
  {
   "cell_type": "code",
   "execution_count": 9,
   "metadata": {
    "collapsed": true
   },
   "outputs": [],
   "source": [
    "nlp = spacy.load('en')"
   ]
  },
  {
   "cell_type": "code",
   "execution_count": 10,
   "metadata": {
    "collapsed": true
   },
   "outputs": [],
   "source": [
    "def clean_text(text):\n",
    "    \n",
    "    # Remove HTML\n",
    "    text = BeautifulSoup(text, \"html.parser\").get_text()\n",
    "    \n",
    "    #removes numbers, symbols, nextline symbols \n",
    "    \n",
    "    text = re.sub(\"[^a-zA-Z' ]\",\" \", str(text))\n",
    "    text = re.sub(\"'s\", '', text)\n",
    "    text = text.replace(\"\\n\", '').replace('  ', ' ').lower().strip('.')\n",
    "    text = nlp(text)\n",
    "    \n",
    "    words=[]\n",
    "    for word in text:\n",
    "        if word.pos_ != 'PUNCT' and word.lemma_ != '-PRON-' and not word.is_space:\n",
    "            words.append(word.lemma_)\n",
    "    \n",
    "    unigrams=[]\n",
    "    for word in words:\n",
    "        if word not in spacy.en.language_data.STOP_WORDS:\n",
    "            unigrams.append(word)\n",
    "            \n",
    "            \n",
    "    return unigrams"
   ]
  },
  {
   "cell_type": "markdown",
   "metadata": {},
   "source": [
    "## Phrase modeling"
   ]
  },
  {
   "cell_type": "code",
   "execution_count": 11,
   "metadata": {},
   "outputs": [
    {
     "name": "stdout",
     "output_type": "stream",
     "text": [
      "Nachdem wir so viele positive Kommentare gelesen hatten freuten wir uns sehr auf einen gemütlichen Abend mit gutem Essen, natürlich reservierten wir einen Tisch welcher uns zwischen 18 und 20uhr zugesichert wurde.\n",
      "\n",
      "Als wir nun um 18uhr im noch komplett leeren Restaurant eintrafen, stellte sich heraus das es ein organisatorisches problem gab und unser tisch nicht fertig war. Also standen wir ersteinmal zwischen lauter leeren Tischen für ca. 10 min herum bis wir uns setzen konnten. Ausserdem wurde uns vom Koch/Inhaber mitgeteilt dass wir den Tisch doch nur bis 19.30 haben könnten da er nach unserer Reservierung noch eine weitere angenommen hätte. Ich war schon etwas von der Arroganz überrascht aber nun gut, vielleicht würde das Essen ja für alles entschädigen.\n",
      "\n",
      "Für mich und die 2. Dame am Tisch war es etwas schwierig ein Hauptgericht zu finden also fragten wir ob wir evtl. eine der Vorspeisen als Hauptgericht haben könnten, also 2 Vorspeisen wir wären auch mehr als gewillt gewesen für eine grössere Portion einen Aufpreis zu bezahlen, dies war jedoch nicht möglich.\n",
      "\n",
      "Nachdem jeder sein von uns sein Essen hatte, welches nicht schlecht aber auch nicht übermäßig gourmet war, wurde am Nebentisch ein paar Stammgäste empfangen denen auf einmal eine zusätzliche Tagesempfehlung angepriesen wurde. \n",
      "\n",
      "Als Fazit: Das Essen war nicht schlecht, jedoch werde ich trotzdem nicht mehr in das Augustenstüble gehen weil ich mich dort, da ich kein Stammgast bin, als Gast zweiter Klasse behandelt fühlte.\n"
     ]
    },
    {
     "data": {
      "text/plain": [
       "['nachdem wir so viele positive kommentare gelesen hatten freuten wir uns sehr auf einen gem tlichen abend mit gutem essen nat rlich reservierten wir einen tisch welcher uns zwischen  und  uhr zugesichert wurde  als wir nun um  uhr im noch komplett leeren restaurant eintrafen stellte sich heraus das es ein organisatorisches problem gab und unser tisch nicht fertig war also standen wir ersteinmal zwischen lauter leeren tischen f r ca   min herum bis wir uns setzen konnten ausserdem wurde uns vom koch inhaber mitgeteilt dass wir den tisch doch nur bis    haben k nnten da er nach unserer reservierung noch eine weitere angenommen h tte ich war schon etwas von der arroganz berrascht aber nun gut vielleicht w rde das essen ja f r alles entsch digen  f r mich und die  dame am tisch war es etwas schwierig ein hauptgericht zu finden also fragten wir ob wir evtl eine der vorspeisen als hauptgericht haben k nnten also  vorspeisen wir w ren auch mehr als gewillt gewesen f r eine gr ssere portion einen aufpreis zu bezahlen dies war jedoch nicht m glich  nachdem jeder sein von uns sein essen hatte welches nicht schlecht aber auch nicht berm ig gourmet war wurde am nebentisch ein paar stammg ste empfangen denen auf einmal eine zus tzliche tagesempfehlung angepriesen wurde  als fazit das essen war nicht schlecht jedoch werde ich trotzdem nicht mehr in das augustenst ble gehen weil ich mich dort da ich kein stammgast bin als gast zweiter klasse behandelt f hlte']"
      ]
     },
     "execution_count": 11,
     "metadata": {},
     "output_type": "execute_result"
    }
   ],
   "source": [
    "text = reviews['text'][500]\n",
    "samp_text = re.sub(\"[^a-zA-Z' ]\", \" \", str(text))\n",
    "samp_text = samp_text.replace(\"\\n\\n\", '').lower().strip().replace('  ', ' ').split('. ')\n",
    "print(text)\n",
    "samp_text\n"
   ]
  },
  {
   "cell_type": "code",
   "execution_count": 12,
   "metadata": {},
   "outputs": [
    {
     "name": "stdout",
     "output_type": "stream",
     "text": [
      "             word    pos  tag         lemma          orth\n",
      "0             The    DET   DT           the           The\n",
      "1            only    ADJ   JJ          only          only\n",
      "2          reason   NOUN   NN        reason        reason\n",
      "3               I   PRON  PRP        -PRON-             I\n",
      "4            gave   VERB  VBD          give          gave\n",
      "5              it   PRON  PRP        -PRON-            it\n",
      "6               a    DET   DT             a             a\n",
      "7               3    NUM   CD             3             3\n",
      "8             was   VERB  VBD            be           was\n",
      "9         because    ADP   IN       because       because\n",
      "10            the    DET   DT           the           the\n",
      "11           cook   NOUN   NN          cook          cook\n",
      "12      obviously    ADV   RB     obviously     obviously\n",
      "13          knows   VERB  VBZ          know         knows\n",
      "14            how    ADV  WRB           how           how\n",
      "15             to   PART   TO            to            to\n",
      "16           cook   VERB   VB          cook          cook\n",
      "17          sunny    ADJ   JJ         sunny         sunny\n",
      "18           eggs   NOUN  NNS           egg          eggs\n",
      "19       properly    ADV   RB      properly      properly\n",
      "20              .  PUNCT    .             .             .\n",
      "21                 SPACE   SP                            \n",
      "22            The    DET   DT           the           The\n",
      "23           wait   NOUN   NN          wait          wait\n",
      "24          staff   NOUN   NN         staff         staff\n",
      "25            was   VERB  VBD            be           was\n",
      "26            not    ADV   RB           not           not\n",
      "27             to   PART   TO            to            to\n",
      "28   enthusiastic    ADJ   JJ  enthusiastic  enthusiastic\n",
      "29              .  PUNCT    .             .             .\n",
      "..            ...    ...  ...           ...           ...\n",
      "95           food   NOUN   NN          food          food\n",
      "96            was   VERB  VBD            be           was\n",
      "97           good    ADJ   JJ          good          good\n",
      "98              ;  PUNCT    :             ;             ;\n",
      "99           wait   VERB   VB          wait          wait\n",
      "100         staff   NOUN   NN         staff         staff\n",
      "101         needs   NOUN   NN         needs         needs\n",
      "102          work   NOUN   NN          work          work\n",
      "103             .  PUNCT    .             .             .\n",
      "104           And  CCONJ   CC           and           And\n",
      "105             ,  PUNCT    ,             ,             ,\n",
      "106            it   PRON  PRP        -PRON-            it\n",
      "107           was   VERB  VBD            be           was\n",
      "108          like    ADP   IN          like          like\n",
      "109            80    NUM   CD            80            80\n",
      "110       degrees   NOUN  NNS        degree       degrees\n",
      "111            on    ADP   IN            on            on\n",
      "112           the    DET   DT           the           the\n",
      "113         place   NOUN   NN         place         place\n",
      "114             .  PUNCT    .             .             .\n",
      "115          Weak    ADJ   JJ          weak          Weak\n",
      "116             !  PUNCT    .             !             !\n",
      "117           And  CCONJ   CC           and           And\n",
      "118             ,  PUNCT    ,             ,             ,\n",
      "119          cost   NOUN   NN          cost          cost\n",
      "120          more    ADJ  JJR          more          more\n",
      "121          than    ADP   IN          than          than\n",
      "122         other    ADJ   JJ         other         other\n",
      "123        places   NOUN  NNS         place        places\n",
      "124             .  PUNCT    .             .             .\n",
      "\n",
      "[125 rows x 5 columns]\n"
     ]
    }
   ],
   "source": [
    "test = nlp(reviews['text'][5])\n",
    "print(pd.DataFrame([(word, word.pos_, word.tag_, word.lemma_, word.orth_) for word in test], columns = ['word', 'pos', 'tag', 'lemma', 'orth']))"
   ]
  },
  {
   "cell_type": "code",
   "execution_count": 13,
   "metadata": {},
   "outputs": [
    {
     "name": "stdout",
     "output_type": "stream",
     "text": [
      "['reason', 'cook', 'obviously', 'know', 'cook', 'sunny', 'egg', 'properly', 'wait', 'staff', 'enthusiastic', 'slogan', 'reserve', 'right', 'smile', 'abide', 'rule', 'people', 'place', 'forever', 'offer', 'coffee', 'think', 'interested', 'chat', 'friend', 'rat', 'high', 'food', 'good', 'wait', 'staff', 'needs', 'work', 'like', 'degree', 'place', 'weak', 'cost', 'place']\n"
     ]
    }
   ],
   "source": [
    "print(clean_text(reviews['text'][5]))"
   ]
  },
  {
   "cell_type": "code",
   "execution_count": 14,
   "metadata": {},
   "outputs": [
    {
     "name": "stderr",
     "output_type": "stream",
     "text": [
      "/home/ryeyoo/anaconda3/lib/python3.6/site-packages/bs4/__init__.py:282: UserWarning: \"http://jentalkstoomuch.com/2016/08/portland-variety-insulting-people-one-pregnant-woman-at-a-time/\" looks like a URL. Beautiful Soup is not an HTTP client. You should probably use an HTTP client like requests to get the document behind the URL, and feed that document to Beautiful Soup.\n",
      "  ' that document to Beautiful Soup.' % decoded_markup\n"
     ]
    },
    {
     "data": {
      "text/plain": [
       "53425"
      ]
     },
     "execution_count": 14,
     "metadata": {},
     "output_type": "execute_result"
    }
   ],
   "source": [
    "reviews_cleaned = reviews['text'].apply(clean_text)\n",
    "len(reviews_cleaned)"
   ]
  },
  {
   "cell_type": "code",
   "execution_count": 15,
   "metadata": {},
   "outputs": [
    {
     "data": {
      "text/plain": [
       "0    [awesome, plan, fun, night, ballpark, buy, che...\n",
       "1    [schw, bische, k, che, mit, saisonalen, spezia...\n",
       "2    [gute, gastst, tte, mit, gutb, rgerlichen, ger...\n",
       "3    [wir, haben, un, k, rzlich, auf, fisch, w, hre...\n",
       "4    [great, family, breakfast, place, quality, qua...\n",
       "5    [reason, cook, obviously, know, cook, sunny, e...\n",
       "6    [inspire, solid, breakfast, option, quick, han...\n",
       "7    [time, fine, try, ham, egg, fried, salty, lunc...\n",
       "8    [jack, broccoli, omelette, club, sandwich, pre...\n",
       "9    [daybreak, makeover, bright, yellow, half, wal...\n",
       "Name: text, dtype: object"
      ]
     },
     "execution_count": 15,
     "metadata": {},
     "output_type": "execute_result"
    }
   ],
   "source": [
    "from gensim.models import Phrases\n",
    "\n",
    "#unigrams = [review.split(' ') for review in reviews_cleaned]\n",
    "unigrams = reviews_cleaned\n",
    "reviews_cleaned.head(10)"
   ]
  },
  {
   "cell_type": "code",
   "execution_count": 16,
   "metadata": {},
   "outputs": [
    {
     "data": {
      "text/plain": [
       "53425"
      ]
     },
     "execution_count": 16,
     "metadata": {},
     "output_type": "execute_result"
    }
   ],
   "source": [
    "len(unigrams)"
   ]
  },
  {
   "cell_type": "code",
   "execution_count": 17,
   "metadata": {
    "collapsed": true
   },
   "outputs": [],
   "source": [
    "bigrams = gensim.models.phrases.Phraser(Phrases(unigrams))"
   ]
  },
  {
   "cell_type": "code",
   "execution_count": 18,
   "metadata": {
    "collapsed": true
   },
   "outputs": [],
   "source": [
    "bigram_sents = []\n",
    "for sent in unigrams:\n",
    "   bigram_sents.append(bigrams[sent])"
   ]
  },
  {
   "cell_type": "code",
   "execution_count": 19,
   "metadata": {},
   "outputs": [
    {
     "data": {
      "text/plain": [
       "['awesome',\n",
       " 'plan',\n",
       " 'fun',\n",
       " 'night',\n",
       " 'ballpark',\n",
       " 'buy',\n",
       " 'cheap',\n",
       " 'seat',\n",
       " 'possible',\n",
       " 'stay',\n",
       " 'watch_game',\n",
       " 'compare',\n",
       " 'food',\n",
       " 'ballpark',\n",
       " 'bargain',\n",
       " 'especially',\n",
       " 'save',\n",
       " 'ticket']"
      ]
     },
     "execution_count": 19,
     "metadata": {},
     "output_type": "execute_result"
    }
   ],
   "source": [
    "bigram_sents[0]"
   ]
  },
  {
   "cell_type": "code",
   "execution_count": 20,
   "metadata": {
    "collapsed": true
   },
   "outputs": [],
   "source": [
    "trigrams = Phrases(bigram_sents)"
   ]
  },
  {
   "cell_type": "code",
   "execution_count": 21,
   "metadata": {},
   "outputs": [
    {
     "name": "stderr",
     "output_type": "stream",
     "text": [
      "/home/ryeyoo/anaconda3/lib/python3.6/site-packages/gensim/models/phrases.py:274: UserWarning: For a faster implementation, use the gensim.models.phrases.Phraser class\n",
      "  warnings.warn(\"For a faster implementation, use the gensim.models.phrases.Phraser class\")\n"
     ]
    }
   ],
   "source": [
    "\n",
    "trigram_sents =''\n",
    "for bigram in bigram_sents:\n",
    "    trigram_sents += ' '.join(trigrams[bigram])"
   ]
  },
  {
   "cell_type": "code",
   "execution_count": 22,
   "metadata": {
    "collapsed": true
   },
   "outputs": [],
   "source": [
    "#span = re.search('mastro_', trigram_sents).span()\n",
    "#print(span)"
   ]
  },
  {
   "cell_type": "code",
   "execution_count": 23,
   "metadata": {
    "collapsed": true
   },
   "outputs": [],
   "source": [
    "#trigram_sents[span[0]:span[1]+500]"
   ]
  },
  {
   "cell_type": "code",
   "execution_count": 24,
   "metadata": {},
   "outputs": [
    {
     "name": "stderr",
     "output_type": "stream",
     "text": [
      "/home/ryeyoo/anaconda3/lib/python3.6/site-packages/gensim/models/phrases.py:274: UserWarning: For a faster implementation, use the gensim.models.phrases.Phraser class\n",
      "  warnings.warn(\"For a faster implementation, use the gensim.models.phrases.Phraser class\")\n"
     ]
    }
   ],
   "source": [
    "trigram_phrases = [trigrams[bigram] for bigram in bigram_sents]"
   ]
  },
  {
   "cell_type": "code",
   "execution_count": 25,
   "metadata": {
    "collapsed": true
   },
   "outputs": [],
   "source": [
    "import re\n",
    "\n",
    "multigram_list = re.findall('\\w*_\\w*_\\w*', trigram_sents)"
   ]
  },
  {
   "cell_type": "code",
   "execution_count": 26,
   "metadata": {},
   "outputs": [
    {
     "data": {
      "text/plain": [
       "[('sweet_potato_fry', 294),\n",
       " ('mac_n_cheese', 244),\n",
       " ('steak_n_shake', 234),\n",
       " ('seat_right_away', 176),\n",
       " ('big_ass_burger', 137),\n",
       " ('pull_pork_sandwich', 123),\n",
       " ('bloody_mary_bar', 121),\n",
       " ('hot_sour_soup', 119),\n",
       " ('brussel_sprout_nachos', 112),\n",
       " ('staff_super_friendly', 108),\n",
       " ('prix_fixe_menu', 106),\n",
       " ('bistro_la_bon', 104),\n",
       " ('http_www_yelp_com', 103),\n",
       " ('look_forward_try', 101),\n",
       " ('p_pang_pong', 99),\n",
       " ('happy_hour_special', 87),\n",
       " ('wait_long_time', 86),\n",
       " ('casa_di_amore', 86),\n",
       " ('creme_br_l_e', 85),\n",
       " ('vanilla_ice_cream', 80),\n",
       " ('carne_asada_fry', 79),\n",
       " ('service_bit_slow', 77),\n",
       " ('soft_shell_crab', 75),\n",
       " ('staff_friendly_helpful', 75),\n",
       " ('thin_crust_pizza', 70),\n",
       " ('new_york_style', 69),\n",
       " ('course_tasting_menu', 66),\n",
       " ('ping_pang_pong', 66),\n",
       " ('staff_friendly_attentive', 63),\n",
       " ('egg_drop_soup', 62),\n",
       " ('spicy_tuna_roll', 62),\n",
       " ('high_end_restaurant', 62),\n",
       " ('au_gratin_potato', 58),\n",
       " ('wait_minute_seat', 57),\n",
       " ('jean_philippe_patisserie', 57),\n",
       " ('bone_rib_eye', 57),\n",
       " ('gluten_free_pizza', 56),\n",
       " ('fried_green_tomato', 56),\n",
       " ('gluten_free_option', 55),\n",
       " ('michelin_star_restaurant', 54)]"
      ]
     },
     "execution_count": 26,
     "metadata": {},
     "output_type": "execute_result"
    }
   ],
   "source": [
    "from collections import Counter\n",
    "\n",
    "Counter(multigram_list).most_common(40)"
   ]
  },
  {
   "cell_type": "markdown",
   "metadata": {},
   "source": [
    "## Topic modeling"
   ]
  },
  {
   "cell_type": "code",
   "execution_count": 27,
   "metadata": {
    "collapsed": true
   },
   "outputs": [],
   "source": [
    "from gensim.corpora import Dictionary, MmCorpus\n",
    "from gensim.models.ldamulticore import LdaMulticore\n",
    "from gensim import models\n",
    "#import pyLDAvis\n",
    "#import pyLDAvis.gensim\n",
    "import warnings\n"
   ]
  },
  {
   "cell_type": "code",
   "execution_count": 28,
   "metadata": {},
   "outputs": [
    {
     "name": "stdout",
     "output_type": "stream",
     "text": [
      "Dictionary(59247 unique tokens: ['awesome', 'plan', 'fun', 'night', 'ballpark']...)\n"
     ]
    }
   ],
   "source": [
    "trigram_dictionary = Dictionary(trigram_phrases)\n",
    "print(trigram_dictionary)\n",
    "#print(trigram_dictionary.token2id)"
   ]
  },
  {
   "cell_type": "code",
   "execution_count": 29,
   "metadata": {
    "collapsed": true
   },
   "outputs": [],
   "source": [
    "# must give doc2bow the tokenized list from trigrams\n",
    "corpus_yelp = [trigram_dictionary.doc2bow(phrase) for phrase in trigram_phrases]\n"
   ]
  },
  {
   "cell_type": "code",
   "execution_count": 30,
   "metadata": {
    "collapsed": true
   },
   "outputs": [],
   "source": [
    "tfidf_yelp = models.TfidfModel(corpus_yelp)\n",
    "tfidf_corpus = tfidf_yelp[corpus_yelp]"
   ]
  },
  {
   "cell_type": "code",
   "execution_count": 31,
   "metadata": {
    "collapsed": true
   },
   "outputs": [],
   "source": [
    "lda = LdaMulticore(corpus_yelp, num_topics = 20, id2word=trigram_dictionary, workers = 12, chunksize=10000, passes=2)\n",
    "\n",
    "#lda = gensim.models.ldamodel.LdaModel(corpus=tfidf_corpus, id2word=trigram_dictionary, num_topics=20, update_every=1, chunksize=10000, passes=2)\n"
   ]
  },
  {
   "cell_type": "code",
   "execution_count": 32,
   "metadata": {},
   "outputs": [
    {
     "data": {
      "text/plain": [
       "[(0, '0.041*\"good\" + 0.019*\"place\" + 0.016*\"food\" + 0.011*\"great\"'),\n",
       " (1, '0.024*\"good\" + 0.012*\"food\" + 0.010*\"place\" + 0.009*\"like\"'),\n",
       " (2, '0.032*\"food\" + 0.021*\"good\" + 0.017*\"come\" + 0.014*\"order\"'),\n",
       " (3, '0.025*\"good\" + 0.014*\"food\" + 0.013*\"place\" + 0.010*\"love\"'),\n",
       " (4, '0.021*\"good\" + 0.020*\"great\" + 0.015*\"service\" + 0.014*\"place\"'),\n",
       " (5, '0.023*\"food\" + 0.021*\"great\" + 0.017*\"good\" + 0.012*\"place\"'),\n",
       " (6, '0.021*\"order\" + 0.016*\"place\" + 0.014*\"good\" + 0.013*\"great\"'),\n",
       " (7, '0.022*\"good\" + 0.020*\"order\" + 0.016*\"food\" + 0.013*\"place\"'),\n",
       " (8, '0.029*\"good\" + 0.028*\"place\" + 0.027*\"great\" + 0.017*\"food\"'),\n",
       " (9, '0.022*\"good\" + 0.015*\"time\" + 0.011*\"come\" + 0.009*\"like\"'),\n",
       " (10, '0.026*\"food\" + 0.024*\"good\" + 0.013*\"service\" + 0.011*\"place\"'),\n",
       " (11, '0.024*\"good\" + 0.022*\"place\" + 0.020*\"food\" + 0.011*\"come\"'),\n",
       " (12, '0.024*\"food\" + 0.023*\"good\" + 0.020*\"place\" + 0.008*\"time\"'),\n",
       " (13, '0.021*\"good\" + 0.020*\"burger\" + 0.015*\"place\" + 0.012*\"order\"'),\n",
       " (14, '0.013*\"food\" + 0.013*\"place\" + 0.011*\"order\" + 0.011*\"great\"'),\n",
       " (15, '0.016*\"good\" + 0.013*\"great\" + 0.011*\"place\" + 0.010*\"food\"'),\n",
       " (16, '0.027*\"food\" + 0.024*\"order\" + 0.015*\"service\" + 0.014*\"like\"'),\n",
       " (17, '0.019*\"good\" + 0.012*\"place\" + 0.011*\"pizza\" + 0.010*\"food\"'),\n",
       " (18, '0.024*\"good\" + 0.021*\"food\" + 0.013*\"like\" + 0.011*\"restaurant\"'),\n",
       " (19, '0.011*\"order\" + 0.009*\"place\" + 0.009*\"food\" + 0.008*\"good\"')]"
      ]
     },
     "execution_count": 32,
     "metadata": {},
     "output_type": "execute_result"
    }
   ],
   "source": [
    "lda.show_topics(num_topics=-1, num_words=4)"
   ]
  },
  {
   "cell_type": "code",
   "execution_count": 33,
   "metadata": {
    "collapsed": true
   },
   "outputs": [],
   "source": [
    "def lda_description(review_text, min_topic_freq=0.05):\n",
    "    \"\"\"\n",
    "    accept the original text of a review and (1) parse it with spaCy,\n",
    "    (2) apply text pre-proccessing steps, (3) create a bag-of-words\n",
    "    representation, (4) create an LDA representation, and\n",
    "    (5) print a sorted list of the top topics in the LDA representation\n",
    "    \"\"\"\n",
    "    \n",
    "    # parse the review text with spaCy\n",
    "    #parsed_review = nlp(review_text)\n",
    "    \n",
    "    # lemmatize the text and remove punctuation and whitespace\n",
    "    unigram_review = clean_text(review_text)\n",
    "    \n",
    "    # apply the first-order and secord-order phrase models\n",
    "    bigram_review = bigrams[unigram_review]\n",
    "    trigram_review = trigrams[bigram_review]\n",
    "    \n",
    "    # remove any remaining stopwords\n",
    "    trigram_review = [term for term in trigram_review\n",
    "                      if not term in spacy.en.language_data.STOP_WORDS]\n",
    "    \n",
    "    # create a bag-of-words representation\n",
    "    review_bow = trigram_dictionary.doc2bow(trigram_review)\n",
    "    \n",
    "    # create an LDA representation\n",
    "    review_lda = lda[review_bow]\n",
    "    \n",
    "    # sort with the most highly related topics first\n",
    "    review_lda = sorted(review_lda, key=lambda top_freq: (top_freq[0], top_freq[1]))\n",
    "    \n",
    "    for topic_number, freq in review_lda:\n",
    "        if freq < min_topic_freq:\n",
    "            break\n",
    "            \n",
    "        #print the most highly related topic names and frequencies\n",
    "        #print (\"{!s:25s}\".format((topic_number, round(freq, 3))))\n",
    "        print ((topic_number, round(freq, 3)))"
   ]
  },
  {
   "cell_type": "code",
   "execution_count": 50,
   "metadata": {},
   "outputs": [
    {
     "name": "stdout",
     "output_type": "stream",
     "text": [
      "(16, 0.97599999999999998)\n",
      "None\n"
     ]
    },
    {
     "name": "stderr",
     "output_type": "stream",
     "text": [
      "/home/ryeyoo/anaconda3/lib/python3.6/site-packages/gensim/models/phrases.py:274: UserWarning: For a faster implementation, use the gensim.models.phrases.Phraser class\n",
      "  warnings.warn(\"For a faster implementation, use the gensim.models.phrases.Phraser class\")\n"
     ]
    },
    {
     "data": {
      "text/plain": [
       "\"Went there because a friend suggested it. Not the the typical chinese restaurant food. Their specialties are their Meet brochettes. Apperently their lamb skewers are there specialty,but they were nothing spectacular.\\n\\nWe ordered around 15 different brochettes, from lamb,kidney,heart, chicken wings. A soup and a fried rice.\\nEverything was way too salty, Even the melon soup and fried rice.\\n\\nThe only thing that was descent is the oyster.\\n\\nThe bill came up to 105$ for tax and tip incl for 3 people.\\nI would not go back to this place ever again because it's too salty and not worth the price we paid for.\""
      ]
     },
     "execution_count": 50,
     "metadata": {},
     "output_type": "execute_result"
    }
   ],
   "source": [
    "print(lda_description(reviews['text'][250]))\n",
    "reviews['text'][250]"
   ]
  },
  {
   "cell_type": "code",
   "execution_count": 35,
   "metadata": {},
   "outputs": [
    {
     "data": {
      "text/plain": [
       "'0.024*\"food\" + 0.023*\"good\" + 0.020*\"place\" + 0.008*\"time\" + 0.007*\"order\" + 0.007*\"eat\" + 0.007*\"try\" + 0.006*\"like\" + 0.006*\"great\" + 0.006*\"bar\"'"
      ]
     },
     "execution_count": 35,
     "metadata": {},
     "output_type": "execute_result"
    }
   ],
   "source": [
    "lda.print_topic(9)\n",
    "lda.print_topic(12)"
   ]
  },
  {
   "cell_type": "code",
   "execution_count": 36,
   "metadata": {
    "collapsed": true
   },
   "outputs": [],
   "source": [
    "lda.save('yelp_lda')"
   ]
  },
  {
   "cell_type": "code",
   "execution_count": 37,
   "metadata": {},
   "outputs": [
    {
     "data": {
      "image/png": "[encoded data removed]",
      "text/plain": [
       "<matplotlib.figure.Figure at 0x7f785e79f588>"
      ]
     },
     "metadata": {},
     "output_type": "display_data"
    },
    {
     "data": {
      "image/png": "[encoded data removed]",
      "text/plain": [
       "<matplotlib.figure.Figure at 0x7f77d01cb5c0>"
      ]
     },
     "metadata": {},
     "output_type": "display_data"
    }
   ],
   "source": [
    "import matplotlib.pyplot as plt\n",
    "import seaborn as sns\n",
    "\n",
    "sns.countplot(reviews['stars'])\n",
    "plt.show()\n",
    "\n",
    "sns.distplot(np.log(reviews['funny'].value_counts()))\n",
    "plt.xlim(0,10)\n",
    "plt.show()"
   ]
  },
  {
   "cell_type": "code",
   "execution_count": 38,
   "metadata": {},
   "outputs": [
    {
     "data": {
      "text/html": [
       "<div>\n",
       "<style>\n",
       "    .dataframe thead tr:only-child th {\n",
       "        text-align: right;\n",
       "    }\n",
       "\n",
       "    .dataframe thead th {\n",
       "        text-align: left;\n",
       "    }\n",
       "\n",
       "    .dataframe tbody tr th {\n",
       "        vertical-align: top;\n",
       "    }\n",
       "</style>\n",
       "<table border=\"1\" class=\"dataframe\">\n",
       "  <thead>\n",
       "    <tr style=\"text-align: right;\">\n",
       "      <th></th>\n",
       "      <th>cool</th>\n",
       "      <th>funny</th>\n",
       "      <th>stars</th>\n",
       "      <th>useful</th>\n",
       "    </tr>\n",
       "  </thead>\n",
       "  <tbody>\n",
       "    <tr>\n",
       "      <th>count</th>\n",
       "      <td>53425.000000</td>\n",
       "      <td>53425.000000</td>\n",
       "      <td>53425.000000</td>\n",
       "      <td>53425.000000</td>\n",
       "    </tr>\n",
       "    <tr>\n",
       "      <th>mean</th>\n",
       "      <td>0.516893</td>\n",
       "      <td>0.391802</td>\n",
       "      <td>3.708882</td>\n",
       "      <td>0.901320</td>\n",
       "    </tr>\n",
       "    <tr>\n",
       "      <th>std</th>\n",
       "      <td>2.075078</td>\n",
       "      <td>1.687110</td>\n",
       "      <td>1.328222</td>\n",
       "      <td>2.445244</td>\n",
       "    </tr>\n",
       "    <tr>\n",
       "      <th>min</th>\n",
       "      <td>0.000000</td>\n",
       "      <td>0.000000</td>\n",
       "      <td>1.000000</td>\n",
       "      <td>0.000000</td>\n",
       "    </tr>\n",
       "    <tr>\n",
       "      <th>25%</th>\n",
       "      <td>0.000000</td>\n",
       "      <td>0.000000</td>\n",
       "      <td>3.000000</td>\n",
       "      <td>0.000000</td>\n",
       "    </tr>\n",
       "    <tr>\n",
       "      <th>50%</th>\n",
       "      <td>0.000000</td>\n",
       "      <td>0.000000</td>\n",
       "      <td>4.000000</td>\n",
       "      <td>0.000000</td>\n",
       "    </tr>\n",
       "    <tr>\n",
       "      <th>75%</th>\n",
       "      <td>0.000000</td>\n",
       "      <td>0.000000</td>\n",
       "      <td>5.000000</td>\n",
       "      <td>1.000000</td>\n",
       "    </tr>\n",
       "    <tr>\n",
       "      <th>max</th>\n",
       "      <td>234.000000</td>\n",
       "      <td>166.000000</td>\n",
       "      <td>5.000000</td>\n",
       "      <td>247.000000</td>\n",
       "    </tr>\n",
       "  </tbody>\n",
       "</table>\n",
       "</div>"
      ],
      "text/plain": [
       "               cool         funny         stars        useful\n",
       "count  53425.000000  53425.000000  53425.000000  53425.000000\n",
       "mean       0.516893      0.391802      3.708882      0.901320\n",
       "std        2.075078      1.687110      1.328222      2.445244\n",
       "min        0.000000      0.000000      1.000000      0.000000\n",
       "25%        0.000000      0.000000      3.000000      0.000000\n",
       "50%        0.000000      0.000000      4.000000      0.000000\n",
       "75%        0.000000      0.000000      5.000000      1.000000\n",
       "max      234.000000    166.000000      5.000000    247.000000"
      ]
     },
     "execution_count": 38,
     "metadata": {},
     "output_type": "execute_result"
    }
   ],
   "source": [
    "reviews.describe()"
   ]
  },
  {
   "cell_type": "markdown",
   "metadata": {},
   "source": [
    "## Latent semantic analysis\n"
   ]
  },
  {
   "cell_type": "code",
   "execution_count": 39,
   "metadata": {
    "collapsed": true
   },
   "outputs": [],
   "source": [
    "lsi = gensim.models.lsimodel.LsiModel(corpus=tfidf_corpus, id2word=trigram_dictionary, num_topics=250)\n"
   ]
  },
  {
   "cell_type": "code",
   "execution_count": 55,
   "metadata": {},
   "outputs": [
    {
     "data": {
      "text/plain": [
       "[(0, '0.178*\"great\" + 0.166*\"good\" + 0.166*\"place\" + 0.163*\"food\"'),\n",
       " (1, '0.932*\"pizza\" + 0.088*\"wing\" + 0.080*\"crust\" + 0.075*\"delivery\"'),\n",
       " (2, '-0.553*\"burger\" + 0.320*\"great\" + 0.278*\"sushi\" + 0.176*\"amazing\"'),\n",
       " (3, '0.643*\"burger\" + 0.244*\"great\" + 0.186*\"love\" + -0.161*\"table\"'),\n",
       " (4, '-0.667*\"sushi\" + 0.241*\"great\" + -0.238*\"roll\" + -0.169*\"fresh\"'),\n",
       " (5, '0.438*\"sushi\" + -0.258*\"chicken\" + 0.256*\"burger\" + -0.194*\"sandwich\"'),\n",
       " (6, '0.287*\"love\" + 0.231*\"breakfast\" + 0.221*\"sandwich\" + -0.209*\"steak\"'),\n",
       " (7, '0.347*\"love\" + -0.291*\"buffet\" + -0.284*\"price\" + -0.251*\"dim_sum\"'),\n",
       " (8, '-0.348*\"amazing\" + -0.329*\"love\" + 0.277*\"bar\" + 0.253*\"drink\"'),\n",
       " (9,\n",
       "  '-0.485*\"breakfast\" + -0.240*\"buffet\" + -0.229*\"sandwich\" + 0.206*\"chicken\"'),\n",
       " (10,\n",
       "  '0.420*\"love\" + -0.269*\"excellent\" + -0.257*\"sandwich\" + -0.235*\"lunch\"'),\n",
       " (11, '0.520*\"amazing\" + 0.272*\"wing\" + -0.251*\"love\" + -0.240*\"dim_sum\"')]"
      ]
     },
     "execution_count": 55,
     "metadata": {},
     "output_type": "execute_result"
    }
   ],
   "source": [
    "lsi.print_topics(12, num_words = 4)"
   ]
  },
  {
   "cell_type": "code",
   "execution_count": 54,
   "metadata": {},
   "outputs": [
    {
     "name": "stdout",
     "output_type": "stream",
     "text": [
      "['solid', 'place', 'eat', 'breakfast', 'tell', 'exactly', 'cook', 'example', 'scramble', 'eggs', 'bacon', 'crispy', 'burn', 'hash_brown', 'fry', 'burn', 'toast', 'actually', 'toast_butter', 'actually', 'order', 'exactly_expect', \"this'll\", 'ensure', 'good', 'want', 'price', 'want']\n"
     ]
    },
    {
     "data": {
      "text/plain": [
       "[(0, 1.2857529802409962),\n",
       " (11, 0.68602525925799818),\n",
       " (28, 0.61035514993147932),\n",
       " (58, 0.59944181976015143),\n",
       " (102, 0.57208235985318823)]"
      ]
     },
     "execution_count": 54,
     "metadata": {},
     "output_type": "execute_result"
    }
   ],
   "source": [
    "print(trigram_phrases[10])\n",
    "\n",
    "review = lsi[trigram_dictionary.doc2bow(trigram_phrases[10])]\n",
    "\n",
    "sorted([topic for topic in review if topic[1] > .05], key = lambda topic: topic[1], reverse = True)[0:5]\n",
    "      "
   ]
  },
  {
   "cell_type": "markdown",
   "metadata": {},
   "source": [
    "## Word vectors"
   ]
  },
  {
   "cell_type": "code",
   "execution_count": 42,
   "metadata": {
    "collapsed": true
   },
   "outputs": [],
   "source": [
    "w2vec = gensim.models.Word2Vec(trigram_phrases)"
   ]
  },
  {
   "cell_type": "code",
   "execution_count": 59,
   "metadata": {},
   "outputs": [
    {
     "name": "stdout",
     "output_type": "stream",
     "text": [
      "0.887468923731\n"
     ]
    },
    {
     "data": {
      "text/plain": [
       "[('bargain', 0.7741219401359558),\n",
       " ('quality_quantity', 0.7645257115364075),\n",
       " ('exception', 0.7468701601028442)]"
      ]
     },
     "execution_count": 59,
     "metadata": {},
     "output_type": "execute_result"
    }
   ],
   "source": [
    "print(w2vec.similarity('france', 'spain'))\n",
    "\n",
    "w2vec.most_similar(positive=['lunch_special', 'best'], negative=['chicken'], topn=3)"
   ]
  }
 ],
 "metadata": {
  "anaconda-cloud": {},
  "kernelspec": {
   "display_name": "Python 3",
   "language": "python",
   "name": "python3"
  },
  "language_info": {
   "codemirror_mode": {
    "name": "ipython",
    "version": 3
   },
   "file_extension": ".py",
   "mimetype": "text/x-python",
   "name": "python",
   "nbconvert_exporter": "python",
   "pygments_lexer": "ipython3",
   "version": "3.6.1"
  }
 },
 "nbformat": 4,
 "nbformat_minor": 2
}
